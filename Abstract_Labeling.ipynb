{
 "nbformat": 4,
 "nbformat_minor": 2,
 "metadata": {
  "language_info": {
   "name": "python",
   "codemirror_mode": {
    "name": "ipython",
    "version": 3
   }
  },
  "orig_nbformat": 2,
  "file_extension": ".py",
  "mimetype": "text/x-python",
  "name": "python",
  "npconvert_exporter": "python",
  "pygments_lexer": "ipython3",
  "version": 3
 },
 "cells": [
  {
   "cell_type": "code",
   "execution_count": 1,
   "metadata": {},
   "outputs": [],
   "source": [
    "import pandas as pd\n",
    "import numpy as np\n",
    "import matplotlib.pyplot as plt\n",
    "%matplotlib inline\n",
    "import pickle, json, re, time\n",
    "\n",
    "import torch\n",
    "import torch.nn as nn\n",
    "import torch.nn.functional as F\n",
    "from torch.utils.data import Dataset, DataLoader\n",
    "from torch.utils.tensorboard import SummaryWriter\n",
    "\n",
    "from sklearn.utils import shuffle\n",
    "from sklearn.model_selection import train_test_split\n",
    "\n",
    "from tqdm import tqdm\n",
    "from tqdm import trange\n",
    "\n",
    "from gensim.parsing import remove_stopwords\n",
    "\n",
    "from collections import OrderedDict\n",
    "\n",
    "import os\n",
    "CWD = os.getcwd()\n",
    "DATA_PATH = os.path.join(CWD, 'data')\n",
    "CPUNUM = os.cpu_count() // 2"
   ]
  },
  {
   "cell_type": "markdown",
   "execution_count": 5,
   "metadata": {},
   "outputs": [
    {
     "ename": "SyntaxError",
     "evalue": "invalid syntax (<ipython-input-5-3803b2ac7dae>, line 2)",
     "output_type": "error",
     "traceback": [
      "\u001b[0;36m  File \u001b[0;32m\"<ipython-input-5-3803b2ac7dae>\"\u001b[0;36m, line \u001b[0;32m2\u001b[0m\n\u001b[0;31m    For tuning best models, you may need to save the used hyperparameters.<br />\u001b[0m\n\u001b[0m             ^\u001b[0m\n\u001b[0;31mSyntaxError\u001b[0m\u001b[0;31m:\u001b[0m invalid syntax\n"
     ]
    }
   ],
   "source": [
    "### Hyperparameter logging and tuning\n",
    "For tuning best models, you may need to save the used hyperparameters.<br />\n",
    "The two cells below make the logging convenient."
   ]
  },
  {
   "cell_type": "code",
   "execution_count": 2,
   "metadata": {},
   "outputs": [],
   "source": [
    "import configparser\n",
    "\n",
    "def write_config(filename, with_time=False):\n",
    "    config = configparser.ConfigParser()\n",
    "    config['DEFAULT'] = {'embedding_dim': embedding_dim,\n",
    "                         'hidden_dim': hidden_dim,\n",
    "                         'learning_rate': learning_rate,\n",
    "                         'max_epoch': max_epoch,\n",
    "                         'batch_size': batch_size,\n",
    "                         'drop_p' : drop_p\n",
    "                         }\n",
    "    \n",
    "    if with_time == False:\n",
    "        with open(\"{}.ini\".format(filename), 'w') as configfile:\n",
    "            config.write(configfile)\n",
    "        return 'config'            \n",
    "    else:\n",
    "        timestr = time.strftime(\"%Y%m%d_%H%M%S\")\n",
    "        filename = filename + '_' + timestr\n",
    "        with open(\"{}.ini\".format(filename), 'w') as configfile:\n",
    "            config.write(configfile)\n",
    "        return ( 'config' + timestr )"
   ]
  },
  {
   "cell_type": "code",
   "execution_count": 3,
   "metadata": {},
   "outputs": [],
   "source": [
    "### Hyperparameters tuning\n",
    "### Run this cell for renewing the hyperparameters\n",
    "\n",
    "embedding_dim = 100 # word embedding dim for Glove\n",
    "hidden_dim = 512\n",
    "learning_rate = 1e-4\n",
    "max_epoch = 10\n",
    "batch_size = 16\n",
    "drop_p = 0.2\n",
    "\n",
    "config_fname = write_config(os.path.join(CWD,\"config\"), True)\n",
    "# config_fname will be used when logging training scalar to tensorboard"
   ]
  },
  {
   "cell_type": "code",
   "execution_count": 4,
   "metadata": {},
   "outputs": [],
   "source": [
    "dataset = pd.read_csv( os.path.join(DATA_PATH,'task1_trainset.csv'), dtype=str)"
   ]
  },
  {
   "cell_type": "code",
   "execution_count": 5,
   "metadata": {},
   "outputs": [],
   "source": [
    "### Remove (current) redundant columns.\n",
    "\n",
    "dataset.drop('Title',axis=1,inplace=True)\n",
    "dataset.drop('Categories',axis=1,inplace=True)\n",
    "dataset.drop('Created Date',axis=1, inplace=True)\n",
    "dataset.drop('Authors',axis=1,inplace=True)\n",
    "dataset['Abstract'] = dataset['Abstract'].str.lower()\n",
    "#dataset['Task 1'] = dataset['Task 1'].str.lower()\n",
    "\n",
    "for i in range(len(dataset['Abstract'])):\n",
    "    dataset['Abstract'][i] = remove_stopwords(dataset['Abstract'][i])"
   ]
  },
  {
   "cell_type": "code",
   "execution_count": 6,
   "metadata": {},
   "outputs": [],
   "source": [
    "# set test_size=0.1 for validation split\n",
    "trainset, validset = train_test_split(dataset, test_size=0.1, random_state=42)\n",
    "\n",
    "trainset.to_csv(os.path.join(DATA_PATH,'trainset.csv'),index=False)\n",
    "validset.to_csv(os.path.join(DATA_PATH,'validset.csv'),index=False)"
   ]
  },
  {
   "cell_type": "code",
   "execution_count": 7,
   "metadata": {},
   "outputs": [],
   "source": [
    "# Remove (current) redundant columns of the test set.\n",
    "dataset = pd.read_csv(os.path.join(DATA_PATH, 'task1_public_testset.csv'), dtype=str)\n",
    "dataset.drop('Title', axis=1, inplace=True)\n",
    "dataset.drop('Categories', axis=1, inplace=True)\n",
    "dataset.drop('Created Date', axis=1, inplace=True)\n",
    "dataset.drop('Authors', axis=1, inplace=True)\n",
    "dataset['Abstract'] = dataset['Abstract'].str.lower()\n",
    "\n",
    "dataset['Abstract'] = dataset['Abstract'].apply(func=remove_stopwords)\n",
    "\n",
    "dataset.to_csv(os.path.join(DATA_PATH, 'testset.csv'), index=False)"
   ]
  },
  {
   "cell_type": "markdown",
   "execution_count": null,
   "metadata": {},
   "outputs": [],
   "source": [
    "### Collect words and create the vocabulary set"
   ]
  },
  {
   "cell_type": "code",
   "execution_count": 8,
   "metadata": {},
   "outputs": [],
   "source": [
    "from multiprocessing import Pool\n",
    "from nltk.tokenize import word_tokenize\n",
    "\n",
    "def collect_words(data_path, n_workers=4):\n",
    "    df = pd.read_csv(data_path, dtype=str)\n",
    "    # create a list for storing sentences\n",
    "    sent_list = []\n",
    "    for _ , row in df.iterrows():\n",
    "        # remove $$$ and append to sent_list\n",
    "        sent_list.extend(row['Abstract'].split('$$$'))\n",
    "\n",
    "    chunks = [\n",
    "        ' '.join(sent_list[i:i + len(sent_list) // n_workers])\n",
    "        for i in range(0, len(sent_list), len(sent_list) // n_workers)\n",
    "    ]\n",
    "    with Pool(n_workers) as pool:\n",
    "        # word_tokenize for word-word separation\n",
    "        chunks = pool.map_async(word_tokenize, chunks)\n",
    "        words = set(sum(chunks.get(), []))\n",
    "\n",
    "    return words"
   ]
  },
  {
   "cell_type": "code",
   "execution_count": 9,
   "metadata": {},
   "outputs": [],
   "source": [
    "words = set()\n",
    "words |= collect_words(os.path.join(DATA_PATH, 'trainset.csv'), n_workers=CPUNUM)"
   ]
  },
  {
   "cell_type": "code",
   "execution_count": 10,
   "metadata": {},
   "outputs": [],
   "source": [
    "PAD_TOKEN = 0\n",
    "UNK_TOKEN = 1\n",
    "word_dict = {'<pad>':PAD_TOKEN,'<unk>':UNK_TOKEN}\n",
    "for word in words:\n",
    "    word_dict[word]=len(word_dict)"
   ]
  },
  {
   "cell_type": "code",
   "execution_count": 11,
   "metadata": {},
   "outputs": [],
   "source": [
    "with open('dictionary.pkl', 'wb') as f:\n",
    "    pickle.dump(word_dict, f)"
   ]
  },
  {
   "cell_type": "markdown",
   "execution_count": null,
   "metadata": {},
   "outputs": [],
   "source": [
    "### Download Glove pretrained word embedding from web.\n",
    "\n",
    "Link: http://nlp.stanford.edu/data/glove.6B.zip <br />\n",
    "It takes about 5 minutes for the download.\n"
   ]
  },
  {
   "cell_type": "code",
   "execution_count": 12,
   "metadata": {},
   "outputs": [],
   "source": [
    "import requests, zipfile, io\n",
    "if not os.path.exists('glove'):\n",
    "    os.mkdir('glove')\n",
    "    r = requests.get('http://nlp.stanford.edu/data/glove.6B.zip')\n",
    "    z = zipfile.ZipFile(io.BytesIO(r.content))\n",
    "    z.extractall(path='glove')"
   ]
  },
  {
   "cell_type": "markdown",
   "execution_count": null,
   "metadata": {},
   "outputs": [],
   "source": [
    "### Parsing the GloVe word-embeddings file\n",
    "\n",
    "Parse the unzipped file (a .txt file) to build an index that maps words (as strings) to their vector representation (as number vectors)"
   ]
  },
  {
   "cell_type": "code",
   "execution_count": 13,
   "metadata": {},
   "outputs": [
    {
     "name": "stdout",
     "output_type": "stream",
     "text": "Found 400000 word vectors\n"
    }
   ],
   "source": [
    "# Parse the unzipped file (a .txt file) to build an index that maps words (as strings) to their vector representation (as number vectors)\n",
    "wordvector_path = 'glove/glove.6B.100d.txt'\n",
    "embeddings_index = {}\n",
    "with open(wordvector_path) as f:\n",
    "    for line in f:\n",
    "        values = line.split()\n",
    "        word = values[0]\n",
    "        coefs = np.asarray(values[1:], dtype = 'float32')\n",
    "        embeddings_index[word] = coefs\n",
    "\n",
    "print(f'Found {len(embeddings_index)} word vectors')"
   ]
  },
  {
   "cell_type": "code",
   "execution_count": 14,
   "metadata": {},
   "outputs": [],
   "source": [
    "### Preparing the GloVe word-embeddings matrix\n",
    "\n",
    "max_words = len(word_dict)\n",
    "embedding_matrix = np.zeros((max_words, embedding_dim))\n",
    "for word, i in word_dict.items():\n",
    "    if i < max_words:\n",
    "        embedding_vector = embeddings_index.get(word)\n",
    "        if embedding_vector is not None:\n",
    "            embedding_matrix[i] = embedding_vector"
   ]
  },
  {
   "cell_type": "code",
   "execution_count": 15,
   "metadata": {},
   "outputs": [],
   "source": [
    "embedding_matrix = torch.FloatTensor(embedding_matrix)"
   ]
  },
  {
   "cell_type": "markdown",
   "execution_count": null,
   "metadata": {},
   "outputs": [],
   "source": [
    "### Data Formatting\n",
    "建立完字典後，我們要將 data 切成數個 batch，並且將輸入的句子轉成數字，將答案轉成 onehot vector。\n",
    "- `label_to_onehot(labels)`:  \n",
    "    將 datasert 中的 label string 轉成 onehot encoding vector。  \n",
    "- `sentence_to_indices(sentence, word_dict)`:  \n",
    "    將輸入的句子中每個 word 轉成字典中對應的 index  \n",
    "    ex : 'i love ncku' -> $[1,2,3]$\n",
    "- `get_dataset(data_path, word_dict, n_workers=4)`:  \n",
    "    將 dataset 讀入\n",
    "- `preprocess_samples(dataset, word_dict)`:  \n",
    "    傳入所有 input sentences 並進行 data preprocessing  \n",
    "- `preprocess_sample(data, word_dict)`:  \n",
    "    主要透過這個 function 移除存在於 'Abstract' 中的 `$` 符號  \n",
    "    並將 'Label' 轉成 onehot encoding vector。"
   ]
  },
  {
   "cell_type": "code",
   "execution_count": 16,
   "metadata": {},
   "outputs": [],
   "source": [
    "def label_to_onehot(labels):\n",
    "    \"\"\" Convert label to onehot .\n",
    "        Args:\n",
    "            labels (string): sentence's labels.\n",
    "        Return:\n",
    "            outputs (onehot list): sentence's onehot label.\n",
    "    \"\"\"\n",
    "    label_dict = {'BACKGROUND': 0, 'OBJECTIVES':1, 'METHODS':2, 'RESULTS':3, 'CONCLUSIONS':4, 'OTHERS':5}\n",
    "    onehot = [0,0,0,0,0,0]\n",
    "    for l in labels.split('/'):\n",
    "        onehot[label_dict[l]] = 1\n",
    "    return onehot\n",
    "        \n",
    "def sentence_to_indices(sentence, word_dict):\n",
    "    \"\"\" Convert sentence to its word indices.\n",
    "    Args:\n",
    "        sentence (str): One string.\n",
    "    Return:\n",
    "        indices (list of int): List of word indices.\n",
    "    \"\"\"\n",
    "    return [word_dict.get(word,UNK_TOKEN) for word in word_tokenize(sentence)]\n",
    "    \n",
    "def get_dataset(data_path, word_dict, n_workers=4):\n",
    "    \"\"\" Load data and return dataset for training and validating.\n",
    "\n",
    "    Args:\n",
    "        data_path (str): Path to the data.\n",
    "    \"\"\"\n",
    "    dataset = pd.read_csv(data_path, dtype=str)\n",
    "\n",
    "    results = [None] * n_workers\n",
    "    with Pool(processes=n_workers) as pool:\n",
    "        for i in range(n_workers):\n",
    "            batch_start = (len(dataset) // n_workers) * i\n",
    "            if i == n_workers - 1:\n",
    "                batch_end = len(dataset)\n",
    "            else:\n",
    "                batch_end = (len(dataset) // n_workers) * (i + 1)\n",
    "            \n",
    "            batch = dataset[batch_start: batch_end]\n",
    "            results[i] = pool.apply_async(preprocess_samples, args=(batch,word_dict))\n",
    "\n",
    "        pool.close()\n",
    "        pool.join()\n",
    "\n",
    "    processed = []\n",
    "    for result in results:\n",
    "        processed += result.get()\n",
    "    return processed\n",
    "\n",
    "def preprocess_samples(dataset, word_dict):\n",
    "    \"\"\" Worker function.\n",
    "\n",
    "    Args:\n",
    "        dataset (list of dict)\n",
    "    Returns:\n",
    "        list of processed dict.\n",
    "    \"\"\"\n",
    "    processed = []\n",
    "    for sample in tqdm(dataset.iterrows(), total=len(dataset)):\n",
    "        processed.append(preprocess_sample(sample[1], word_dict))\n",
    "\n",
    "    return processed\n",
    "\n",
    "def preprocess_sample(data, word_dict):\n",
    "    \"\"\"\n",
    "    Args:\n",
    "        data (dict)\n",
    "    Returns:\n",
    "        dict\n",
    "    \"\"\"\n",
    "    ## clean abstracts by removing $$$\n",
    "    processed = {}\n",
    "    processed['Abstract'] = [sentence_to_indices(sent, word_dict) for sent in data['Abstract'].split('$$$')]\n",
    "    \n",
    "    ## convert the labels into one-hot encoding\n",
    "    if 'Task 1' in data:\n",
    "        processed['Label'] = [label_to_onehot(label) for label in data['Task 1'].split(' ')]\n",
    "        \n",
    "    return processed"
   ]
  },
  {
   "cell_type": "code",
   "execution_count": 17,
   "metadata": {},
   "outputs": [
    {
     "name": "stdout",
     "output_type": "stream",
     "text": "[INFO] Start processing trainset...\n100%|██████████| 787/787 [00:00<00:00, 913.18it/s]\n100%|██████████| 787/787 [00:00<00:00, 889.82it/s]\n100%|██████████| 787/787 [00:00<00:00, 843.29it/s]\n100%|██████████| 787/787 [00:00<00:00, 838.16it/s]\n100%|██████████| 787/787 [00:00<00:00, 817.80it/s]\n100%|██████████| 787/787 [00:00<00:00, 850.15it/s]\n100%|██████████| 791/791 [00:00<00:00, 847.06it/s]\n100%|██████████| 787/787 [00:00<00:00, 800.17it/s]\n[INFO] Start processing validset...\n100%|██████████| 87/87 [00:00<00:00, 993.53it/s]\n100%|██████████| 87/87 [00:00<00:00, 904.22it/s]\n100%|██████████| 87/87 [00:00<00:00, 834.42it/s]\n100%|██████████| 87/87 [00:00<00:00, 903.50it/s]\n100%|██████████| 87/87 [00:00<00:00, 918.62it/s]\n100%|██████████| 87/87 [00:00<00:00, 635.19it/s]\n100%|██████████| 91/91 [00:00<00:00, 982.39it/s]\n100%|██████████| 87/87 [00:00<00:00, 604.98it/s]\n[INFO] Start processing testset...\n100%|██████████| 2500/2500 [00:02<00:00, 881.94it/s]\n100%|██████████| 2500/2500 [00:02<00:00, 894.06it/s]\n100%|██████████| 2500/2500 [00:02<00:00, 876.01it/s]\n100%|██████████| 2500/2500 [00:02<00:00, 850.04it/s]\n100%|██████████| 2500/2500 [00:02<00:00, 853.53it/s]\n\n100%|██████████| 2500/2500 [00:02<00:00, 855.18it/s]\n100%|██████████| 2500/2500 [00:02<00:00, 835.96it/s]\n"
    }
   ],
   "source": [
    "print('[INFO] Start processing trainset...')\n",
    "train = get_dataset(os.path.join(DATA_PATH,'trainset.csv'), word_dict, n_workers=CPUNUM)\n",
    "print('[INFO] Start processing validset...')\n",
    "valid = get_dataset(os.path.join(DATA_PATH,'validset.csv'), word_dict, n_workers=CPUNUM)\n",
    "print('[INFO] Start processing testset...')\n",
    "test = get_dataset(os.path.join(DATA_PATH,'testset.csv'), word_dict, n_workers=CPUNUM)"
   ]
  },
  {
   "cell_type": "markdown",
   "execution_count": null,
   "metadata": {},
   "outputs": [],
   "source": [
    "### Create a dataset class for the abstract dataset\n",
    "`torch.utils.data.Dataset` is an abstract class representing a dataset.<br />Your custom dataset should inherit Dataset and override the following methods:\n",
    "\n",
    "- `__len__` so that len(dataset) returns the size of the dataset.\n",
    "- `__getitem__` to support the indexing such that dataset[i] can be used to get i\n",
    "th sample\n",
    "- `collate_fn` Users may use customized collate_fn to achieve custom batching\n",
    "    - Here we pad sequences of various lengths (make same length of every single sentence)"
   ]
  },
  {
   "cell_type": "code",
   "execution_count": 18,
   "metadata": {},
   "outputs": [],
   "source": [
    "class AbstractDataset(Dataset):\n",
    "    def __init__(self, data, pad_idx, max_len = 64):\n",
    "        self.data = data\n",
    "        self.pad_idx = pad_idx\n",
    "        self.max_len = max_len\n",
    "        \n",
    "    def __len__(self):\n",
    "        return len(self.data)\n",
    "\n",
    "    def __getitem__(self, index):\n",
    "        return self.data[index]\n",
    "        \n",
    "    def collate_fn(self, datas):\n",
    "        # get max length in this batch\n",
    "        max_sent = max([len(data['Abstract']) for data in datas])\n",
    "        max_len = max([min(len(sentence), self.max_len) for data in datas for sentence in data['Abstract']])\n",
    "        batch_abstract = []\n",
    "        batch_label = []\n",
    "        sent_len = []\n",
    "        for data in datas:\n",
    "            # padding abstract to make them in same length\n",
    "            pad_abstract = []\n",
    "            for sentence in data['Abstract']:\n",
    "                if len(sentence) > max_len:\n",
    "                    pad_abstract.append(sentence[:max_len])\n",
    "                else:\n",
    "                    pad_abstract.append(sentence+[self.pad_idx]*(max_len-len(sentence)))\n",
    "            sent_len.append(len(pad_abstract))\n",
    "            pad_abstract.extend([[self.pad_idx]*max_len]*(max_sent-len(pad_abstract)))\n",
    "            batch_abstract.append(pad_abstract)\n",
    "            # gather labels\n",
    "            if 'Label' in data:\n",
    "                pad_label = data['Label']\n",
    "                pad_label.extend([[0]*6]*(max_sent-len(pad_label)))\n",
    "                \n",
    "                batch_label.append(pad_label)\n",
    "        return torch.LongTensor(batch_abstract), torch.FloatTensor(batch_label), sent_len"
   ]
  },
  {
   "cell_type": "code",
   "execution_count": 19,
   "metadata": {},
   "outputs": [],
   "source": [
    "trainData = AbstractDataset(train, PAD_TOKEN, max_len = 64)\n",
    "validData = AbstractDataset(valid, PAD_TOKEN, max_len = 64)\n",
    "testData = AbstractDataset(test, PAD_TOKEN, max_len = 64)"
   ]
  },
  {
   "cell_type": "markdown",
   "execution_count": null,
   "metadata": {},
   "outputs": [],
   "source": [
    "### TO-DO List\n",
    "- [x] : Increase GRU layer  \n",
    "        Now : 2 layer\n",
    "- [ ] : use Fast text embedding\n",
    "- [ ] : use `title` column\n",
    "- [x] : add dropout layer\n",
    "        Now : dropout prob = 0.3"
   ]
  },
  {
   "cell_type": "code",
   "execution_count": 20,
   "metadata": {},
   "outputs": [],
   "source": [
    "class Net(nn.Module):\n",
    "    def __init__(self, vocabulary_size):\n",
    "        super(Net, self).__init__()\n",
    "        self.embedding = nn.Embedding(vocabulary_size, embedding_dim, _weight=embedding_matrix)\n",
    "        self.sent_rnn = nn.GRU(embedding_dim, hidden_dim, num_layers=2, dropout=drop_p, bidirectional=True, batch_first=True)\n",
    "        self.FCLayer = nn.Sequential(OrderedDict([\n",
    "            ('FC1', nn.Linear(hidden_dim*2, hidden_dim)),\n",
    "            ('DropOut1', nn.Dropout(drop_p)),\n",
    "            ('ReLU1', nn.ReLU()),\n",
    "            ('FC2', nn.Linear(hidden_dim, 6)),\n",
    "            ('Sigmoid', nn.Sigmoid())\n",
    "        ]))\n",
    "        torch.nn.init.xavier_normal_(self.FCLayer[0].weight)\n",
    "        \n",
    "    def forward(self, x):\n",
    "        # b: batch_size\n",
    "        # s: number of sentences\n",
    "        # w: number of words\n",
    "        # e: embedding_dim\n",
    "        x = self.embedding(x)\n",
    "        b,s,w,e = x.shape\n",
    "        x = x.view(b,s*w,e)\n",
    "        x, __ = self.sent_rnn(x)\n",
    "        x = x.view(b,s,w,-1)\n",
    "        x = torch.max(x,dim=2)[0]\n",
    "        y = self.FCLayer(x)\n",
    "        return y"
   ]
  },
  {
   "cell_type": "code",
   "execution_count": 21,
   "metadata": {},
   "outputs": [],
   "source": [
    "device = torch.device('cuda' if torch.cuda.is_available() else 'cpu')"
   ]
  },
  {
   "cell_type": "code",
   "execution_count": 22,
   "metadata": {},
   "outputs": [],
   "source": [
    "### Helper functions for scoring\n",
    "\n",
    "class F1():\n",
    "    def __init__(self):\n",
    "        self.threshold = 0.5\n",
    "        self.n_precision = 0\n",
    "        self.n_recall = 0\n",
    "        self.n_corrects = 0\n",
    "        self.name = 'F1'\n",
    "\n",
    "    def reset(self):\n",
    "        self.n_precision = 0\n",
    "        self.n_recall = 0\n",
    "        self.n_corrects = 0\n",
    "\n",
    "    def update(self, predicts, groundTruth):\n",
    "        predicts = predicts > self.threshold\n",
    "        self.n_precision += torch.sum(predicts).data.item()\n",
    "        self.n_recall += torch.sum(groundTruth).data.item()\n",
    "        self.n_corrects += torch.sum(groundTruth.type(torch.bool) * predicts).data.item()\n",
    "\n",
    "    def get_score(self):\n",
    "        recall = self.n_corrects / self.n_recall\n",
    "        precision = self.n_corrects / (self.n_precision + 1e-20)\n",
    "        return 2 * (recall * precision) / (recall + precision + 1e-20)\n",
    "\n",
    "    def print_score(self):\n",
    "        score = self.get_score()\n",
    "        return '{:.5f}'.format(score)"
   ]
  },
  {
   "cell_type": "code",
   "execution_count": 23,
   "metadata": {},
   "outputs": [],
   "source": [
    "def _run_epoch(epoch, mode):\n",
    "    model.train(True)\n",
    "    if mode==\"train\":\n",
    "        description = 'Train'\n",
    "        dataset = trainData\n",
    "        shuffle = True\n",
    "    else:\n",
    "        description = 'Valid'\n",
    "        dataset = validData\n",
    "        shuffle = False\n",
    "    dataloader = DataLoader(dataset=dataset,\n",
    "                            batch_size=batch_size,\n",
    "                            shuffle=shuffle,\n",
    "                            collate_fn=dataset.collate_fn,\n",
    "                            num_workers=8)\n",
    "\n",
    "    trange = tqdm(enumerate(dataloader), total=len(dataloader), desc=description)\n",
    "    loss = 0\n",
    "    f1_score = F1()\n",
    "    for i, (x, y, sent_len) in trange:\n",
    "        if epoch == 0:\n",
    "            writer.add_graph(model, x.to(device))\n",
    "\n",
    "        o_labels, batch_loss = _run_iter(x,y)\n",
    "        if mode==\"train\":\n",
    "            opt.zero_grad()\n",
    "            batch_loss.backward()\n",
    "            opt.step()\n",
    "\n",
    "        loss += batch_loss.item()\n",
    "        f1_score.update(o_labels.cpu(), y)\n",
    "\n",
    "        trange.set_postfix(\n",
    "            loss=loss / (i + 1), f1=f1_score.print_score())\n",
    "    \n",
    "    if mode==\"train\":\n",
    "        history['train'].append({'f1':f1_score.get_score(), 'loss':loss/ len(trange)})\n",
    "        writer.add_scalar('Loss/train', loss/ len(trange), epoch)\n",
    "        writer.add_scalar('F1_score/train', f1_score.get_score(), epoch)\n",
    "    else:\n",
    "        history['valid'].append({'f1':f1_score.get_score(), 'loss':loss/ len(trange)})\n",
    "        writer.add_scalar('Loss/valid', loss/ len(trange), epoch)\n",
    "        writer.add_scalar('F1_score/valid', f1_score.get_score(), epoch)\n",
    "    trange.close()\n",
    "    \n",
    "\n",
    "def _run_iter(x,y):\n",
    "    abstract = x.to(device)\n",
    "    labels = y.to(device)\n",
    "    o_labels = model(abstract)\n",
    "    l_loss = criteria(o_labels, labels)\n",
    "    return o_labels, l_loss\n",
    "\n",
    "def save(epoch):\n",
    "    if not os.path.exists(os.path.join(CWD,'model')):\n",
    "        os.makedirs(os.path.join(CWD,'model'))\n",
    "    torch.save(model.state_dict(), os.path.join( CWD,'model/model.pkl.'+str(epoch) ))\n",
    "    with open( os.path.join( CWD,'model/history.json'), 'w') as f:\n",
    "        json.dump(history, f, indent=4)"
   ]
  },
  {
   "cell_type": "code",
   "execution_count": 24,
   "metadata": {},
   "outputs": [
    {
     "name": "stdout",
     "output_type": "stream",
     "text": "Epoch: 0\nTrain: 100%|██████████| 394/394 [02:51<00:00,  2.30it/s, f1=0.25657, loss=0.264]\nValid: 100%|██████████| 44/44 [00:15<00:00,  2.87it/s, f1=0.50987, loss=0.194]Epoch: 1\n\nTrain: 100%|██████████| 394/394 [01:01<00:00,  6.39it/s, f1=0.58392, loss=0.188]\nValid: 100%|██████████| 44/44 [00:02<00:00, 14.79it/s, f1=0.61786, loss=0.177]Epoch: 2\n\nTrain: 100%|██████████| 394/394 [01:01<00:00,  6.39it/s, f1=0.63033, loss=0.176]\nValid: 100%|██████████| 44/44 [00:03<00:00, 14.56it/s, f1=0.62785, loss=0.172]\nEpoch: 3\nTrain: 100%|██████████| 394/394 [01:01<00:00,  6.42it/s, f1=0.65259, loss=0.169]\nValid: 100%|██████████| 44/44 [00:02<00:00, 14.69it/s, f1=0.64838, loss=0.167]Epoch: 4\n\nTrain: 100%|██████████| 394/394 [01:00<00:00,  6.49it/s, f1=0.66625, loss=0.166]\nValid: 100%|██████████| 44/44 [00:02<00:00, 14.72it/s, f1=0.65015, loss=0.166]\nEpoch: 5\nTrain: 100%|██████████| 394/394 [01:01<00:00,  6.46it/s, f1=0.67941, loss=0.161]\nValid: 100%|██████████| 44/44 [00:02<00:00, 14.93it/s, f1=0.65750, loss=0.166]\nEpoch: 6\nTrain: 100%|██████████| 394/394 [01:01<00:00,  6.44it/s, f1=0.68400, loss=0.157]\nValid: 100%|██████████| 44/44 [00:02<00:00, 14.99it/s, f1=0.66693, loss=0.165]Epoch: 7\n\nTrain: 100%|██████████| 394/394 [01:02<00:00,  6.35it/s, f1=0.69423, loss=0.154]\nValid: 100%|██████████| 44/44 [00:02<00:00, 14.87it/s, f1=0.65540, loss=0.166]Epoch: 8\n\nTrain: 100%|██████████| 394/394 [01:02<00:00,  6.34it/s, f1=0.70387, loss=0.151]\nValid: 100%|██████████| 44/44 [00:02<00:00, 14.75it/s, f1=0.67013, loss=0.164]Epoch: 9\n\nTrain: 100%|██████████| 394/394 [01:01<00:00,  6.38it/s, f1=0.71000, loss=0.149]\nValid: 100%|██████████| 44/44 [00:02<00:00, 14.73it/s, f1=0.66680, loss=0.166]\nBest F1 score  [0.6701303793745711, 8]\n"
    },
    {
     "data": {
      "image/png": "[encoded data removed]",
      "image/svg+xml": "<?xml version=\"1.0\" encoding=\"utf-8\" standalone=\"no\"?>\n<!DOCTYPE svg PUBLIC \"-//W3C//DTD SVG 1.1//EN\"\n  \"http://www.w3.org/Graphics/SVG/1.1/DTD/svg11.dtd\">\n<!-- Created with matplotlib (https://matplotlib.org/) -->\n<svg height=\"317.99625pt\" version=\"1.1\" viewBox=\"0 0 434.265625 317.99625\" width=\"434.265625pt\" xmlns=\"http://www.w3.org/2000/svg\" xmlns:xlink=\"http://www.w3.org/1999/xlink\">\n <defs>\n  <style type=\"text/css\">\n*{stroke-linecap:butt;stroke-linejoin:round;}\n  </style>\n </defs>\n <g id=\"figure_1\">\n  <g id=\"patch_1\">\n   <path d=\"M 0 317.99625 \nL 434.265625 317.99625 \nL 434.265625 0 \nL 0 0 \nz\n\" style=\"fill:none;\"/>\n  </g>\n  <g id=\"axes_1\">\n   <g id=\"patch_2\">\n    <path d=\"M 36.465625 294.118125 \nL 427.065625 294.118125 \nL 427.065625 22.318125 \nL 36.465625 22.318125 \nz\n\"/>\n   </g>\n   <g id=\"matplotlib.axis_1\">\n    <g id=\"xtick_1\">\n     <g id=\"line2d_1\">\n      <defs>\n       <path d=\"M 0 0 \nL 0 3.5 \n\" id=\"m890e6f469d\" style=\"stroke:#ffffff;stroke-width:0.8;\"/>\n      </defs>\n      <g>\n       <use style=\"fill:#ffffff;stroke:#ffffff;stroke-width:0.8;\" x=\"54.22017\" xlink:href=\"#m890e6f469d\" y=\"294.118125\"/>\n      </g>\n     </g>\n     <g id=\"text_1\">\n      <!-- 0 -->\n      <defs>\n       <path d=\"M 31.78125 66.40625 \nQ 24.171875 66.40625 20.328125 58.90625 \nQ 16.5 51.421875 16.5 36.375 \nQ 16.5 21.390625 20.328125 13.890625 \nQ 24.171875 6.390625 31.78125 6.390625 \nQ 39.453125 6.390625 43.28125 13.890625 \nQ 47.125 21.390625 47.125 36.375 \nQ 47.125 51.421875 43.28125 58.90625 \nQ 39.453125 66.40625 31.78125 66.40625 \nz\nM 31.78125 74.21875 \nQ 44.046875 74.21875 50.515625 64.515625 \nQ 56.984375 54.828125 56.984375 36.375 \nQ 56.984375 17.96875 50.515625 8.265625 \nQ 44.046875 -1.421875 31.78125 -1.421875 \nQ 19.53125 -1.421875 13.0625 8.265625 \nQ 6.59375 17.96875 6.59375 36.375 \nQ 6.59375 54.828125 13.0625 64.515625 \nQ 19.53125 74.21875 31.78125 74.21875 \nz\n\" id=\"DejaVuSans-48\"/>\n      </defs>\n      <g style=\"fill:#ffffff;\" transform=\"translate(51.03892 308.716563)scale(0.1 -0.1)\">\n       <use xlink:href=\"#DejaVuSans-48\"/>\n      </g>\n     </g>\n    </g>\n    <g id=\"xtick_2\">\n     <g id=\"line2d_2\">\n      <g>\n       <use style=\"fill:#ffffff;stroke:#ffffff;stroke-width:0.8;\" x=\"133.129261\" xlink:href=\"#m890e6f469d\" y=\"294.118125\"/>\n      </g>\n     </g>\n     <g id=\"text_2\">\n      <!-- 2 -->\n      <defs>\n       <path d=\"M 19.1875 8.296875 \nL 53.609375 8.296875 \nL 53.609375 0 \nL 7.328125 0 \nL 7.328125 8.296875 \nQ 12.9375 14.109375 22.625 23.890625 \nQ 32.328125 33.6875 34.8125 36.53125 \nQ 39.546875 41.84375 41.421875 45.53125 \nQ 43.3125 49.21875 43.3125 52.78125 \nQ 43.3125 58.59375 39.234375 62.25 \nQ 35.15625 65.921875 28.609375 65.921875 \nQ 23.96875 65.921875 18.8125 64.3125 \nQ 13.671875 62.703125 7.8125 59.421875 \nL 7.8125 69.390625 \nQ 13.765625 71.78125 18.9375 73 \nQ 24.125 74.21875 28.421875 74.21875 \nQ 39.75 74.21875 46.484375 68.546875 \nQ 53.21875 62.890625 53.21875 53.421875 \nQ 53.21875 48.921875 51.53125 44.890625 \nQ 49.859375 40.875 45.40625 35.40625 \nQ 44.1875 33.984375 37.640625 27.21875 \nQ 31.109375 20.453125 19.1875 8.296875 \nz\n\" id=\"DejaVuSans-50\"/>\n      </defs>\n      <g style=\"fill:#ffffff;\" transform=\"translate(129.948011 308.716563)scale(0.1 -0.1)\">\n       <use xlink:href=\"#DejaVuSans-50\"/>\n      </g>\n     </g>\n    </g>\n    <g id=\"xtick_3\">\n     <g id=\"line2d_3\">\n      <g>\n       <use style=\"fill:#ffffff;stroke:#ffffff;stroke-width:0.8;\" x=\"212.038352\" xlink:href=\"#m890e6f469d\" y=\"294.118125\"/>\n      </g>\n     </g>\n     <g id=\"text_3\">\n      <!-- 4 -->\n      <defs>\n       <path d=\"M 37.796875 64.3125 \nL 12.890625 25.390625 \nL 37.796875 25.390625 \nz\nM 35.203125 72.90625 \nL 47.609375 72.90625 \nL 47.609375 25.390625 \nL 58.015625 25.390625 \nL 58.015625 17.1875 \nL 47.609375 17.1875 \nL 47.609375 0 \nL 37.796875 0 \nL 37.796875 17.1875 \nL 4.890625 17.1875 \nL 4.890625 26.703125 \nz\n\" id=\"DejaVuSans-52\"/>\n      </defs>\n      <g style=\"fill:#ffffff;\" transform=\"translate(208.857102 308.716563)scale(0.1 -0.1)\">\n       <use xlink:href=\"#DejaVuSans-52\"/>\n      </g>\n     </g>\n    </g>\n    <g id=\"xtick_4\">\n     <g id=\"line2d_4\">\n      <g>\n       <use style=\"fill:#ffffff;stroke:#ffffff;stroke-width:0.8;\" x=\"290.947443\" xlink:href=\"#m890e6f469d\" y=\"294.118125\"/>\n      </g>\n     </g>\n     <g id=\"text_4\">\n      <!-- 6 -->\n      <defs>\n       <path d=\"M 33.015625 40.375 \nQ 26.375 40.375 22.484375 35.828125 \nQ 18.609375 31.296875 18.609375 23.390625 \nQ 18.609375 15.53125 22.484375 10.953125 \nQ 26.375 6.390625 33.015625 6.390625 \nQ 39.65625 6.390625 43.53125 10.953125 \nQ 47.40625 15.53125 47.40625 23.390625 \nQ 47.40625 31.296875 43.53125 35.828125 \nQ 39.65625 40.375 33.015625 40.375 \nz\nM 52.59375 71.296875 \nL 52.59375 62.3125 \nQ 48.875 64.0625 45.09375 64.984375 \nQ 41.3125 65.921875 37.59375 65.921875 \nQ 27.828125 65.921875 22.671875 59.328125 \nQ 17.53125 52.734375 16.796875 39.40625 \nQ 19.671875 43.65625 24.015625 45.921875 \nQ 28.375 48.1875 33.59375 48.1875 \nQ 44.578125 48.1875 50.953125 41.515625 \nQ 57.328125 34.859375 57.328125 23.390625 \nQ 57.328125 12.15625 50.6875 5.359375 \nQ 44.046875 -1.421875 33.015625 -1.421875 \nQ 20.359375 -1.421875 13.671875 8.265625 \nQ 6.984375 17.96875 6.984375 36.375 \nQ 6.984375 53.65625 15.1875 63.9375 \nQ 23.390625 74.21875 37.203125 74.21875 \nQ 40.921875 74.21875 44.703125 73.484375 \nQ 48.484375 72.75 52.59375 71.296875 \nz\n\" id=\"DejaVuSans-54\"/>\n      </defs>\n      <g style=\"fill:#ffffff;\" transform=\"translate(287.766193 308.716563)scale(0.1 -0.1)\">\n       <use xlink:href=\"#DejaVuSans-54\"/>\n      </g>\n     </g>\n    </g>\n    <g id=\"xtick_5\">\n     <g id=\"line2d_5\">\n      <g>\n       <use style=\"fill:#ffffff;stroke:#ffffff;stroke-width:0.8;\" x=\"369.856534\" xlink:href=\"#m890e6f469d\" y=\"294.118125\"/>\n      </g>\n     </g>\n     <g id=\"text_5\">\n      <!-- 8 -->\n      <defs>\n       <path d=\"M 31.78125 34.625 \nQ 24.75 34.625 20.71875 30.859375 \nQ 16.703125 27.09375 16.703125 20.515625 \nQ 16.703125 13.921875 20.71875 10.15625 \nQ 24.75 6.390625 31.78125 6.390625 \nQ 38.8125 6.390625 42.859375 10.171875 \nQ 46.921875 13.96875 46.921875 20.515625 \nQ 46.921875 27.09375 42.890625 30.859375 \nQ 38.875 34.625 31.78125 34.625 \nz\nM 21.921875 38.8125 \nQ 15.578125 40.375 12.03125 44.71875 \nQ 8.5 49.078125 8.5 55.328125 \nQ 8.5 64.0625 14.71875 69.140625 \nQ 20.953125 74.21875 31.78125 74.21875 \nQ 42.671875 74.21875 48.875 69.140625 \nQ 55.078125 64.0625 55.078125 55.328125 \nQ 55.078125 49.078125 51.53125 44.71875 \nQ 48 40.375 41.703125 38.8125 \nQ 48.828125 37.15625 52.796875 32.3125 \nQ 56.78125 27.484375 56.78125 20.515625 \nQ 56.78125 9.90625 50.3125 4.234375 \nQ 43.84375 -1.421875 31.78125 -1.421875 \nQ 19.734375 -1.421875 13.25 4.234375 \nQ 6.78125 9.90625 6.78125 20.515625 \nQ 6.78125 27.484375 10.78125 32.3125 \nQ 14.796875 37.15625 21.921875 38.8125 \nz\nM 18.3125 54.390625 \nQ 18.3125 48.734375 21.84375 45.5625 \nQ 25.390625 42.390625 31.78125 42.390625 \nQ 38.140625 42.390625 41.71875 45.5625 \nQ 45.3125 48.734375 45.3125 54.390625 \nQ 45.3125 60.0625 41.71875 63.234375 \nQ 38.140625 66.40625 31.78125 66.40625 \nQ 25.390625 66.40625 21.84375 63.234375 \nQ 18.3125 60.0625 18.3125 54.390625 \nz\n\" id=\"DejaVuSans-56\"/>\n      </defs>\n      <g style=\"fill:#ffffff;\" transform=\"translate(366.675284 308.716563)scale(0.1 -0.1)\">\n       <use xlink:href=\"#DejaVuSans-56\"/>\n      </g>\n     </g>\n    </g>\n   </g>\n   <g id=\"matplotlib.axis_2\">\n    <g id=\"ytick_1\">\n     <g id=\"line2d_6\">\n      <defs>\n       <path d=\"M 0 0 \nL -3.5 0 \n\" id=\"m353d87b576\" style=\"stroke:#ffffff;stroke-width:0.8;\"/>\n      </defs>\n      <g>\n       <use style=\"fill:#ffffff;stroke:#ffffff;stroke-width:0.8;\" x=\"36.465625\" xlink:href=\"#m353d87b576\" y=\"257.719563\"/>\n      </g>\n     </g>\n     <g id=\"text_6\">\n      <!-- 0.16 -->\n      <defs>\n       <path d=\"M 10.6875 12.40625 \nL 21 12.40625 \nL 21 0 \nL 10.6875 0 \nz\n\" id=\"DejaVuSans-46\"/>\n       <path d=\"M 12.40625 8.296875 \nL 28.515625 8.296875 \nL 28.515625 63.921875 \nL 10.984375 60.40625 \nL 10.984375 69.390625 \nL 28.421875 72.90625 \nL 38.28125 72.90625 \nL 38.28125 8.296875 \nL 54.390625 8.296875 \nL 54.390625 0 \nL 12.40625 0 \nz\n\" id=\"DejaVuSans-49\"/>\n      </defs>\n      <g style=\"fill:#ffffff;\" transform=\"translate(7.2 261.518781)scale(0.1 -0.1)\">\n       <use xlink:href=\"#DejaVuSans-48\"/>\n       <use x=\"63.623047\" xlink:href=\"#DejaVuSans-46\"/>\n       <use x=\"95.410156\" xlink:href=\"#DejaVuSans-49\"/>\n       <use x=\"159.033203\" xlink:href=\"#DejaVuSans-54\"/>\n      </g>\n     </g>\n    </g>\n    <g id=\"ytick_2\">\n     <g id=\"line2d_7\">\n      <g>\n       <use style=\"fill:#ffffff;stroke:#ffffff;stroke-width:0.8;\" x=\"36.465625\" xlink:href=\"#m353d87b576\" y=\"214.932856\"/>\n      </g>\n     </g>\n     <g id=\"text_7\">\n      <!-- 0.18 -->\n      <g style=\"fill:#ffffff;\" transform=\"translate(7.2 218.732074)scale(0.1 -0.1)\">\n       <use xlink:href=\"#DejaVuSans-48\"/>\n       <use x=\"63.623047\" xlink:href=\"#DejaVuSans-46\"/>\n       <use x=\"95.410156\" xlink:href=\"#DejaVuSans-49\"/>\n       <use x=\"159.033203\" xlink:href=\"#DejaVuSans-56\"/>\n      </g>\n     </g>\n    </g>\n    <g id=\"ytick_3\">\n     <g id=\"line2d_8\">\n      <g>\n       <use style=\"fill:#ffffff;stroke:#ffffff;stroke-width:0.8;\" x=\"36.465625\" xlink:href=\"#m353d87b576\" y=\"172.146149\"/>\n      </g>\n     </g>\n     <g id=\"text_8\">\n      <!-- 0.20 -->\n      <g style=\"fill:#ffffff;\" transform=\"translate(7.2 175.945367)scale(0.1 -0.1)\">\n       <use xlink:href=\"#DejaVuSans-48\"/>\n       <use x=\"63.623047\" xlink:href=\"#DejaVuSans-46\"/>\n       <use x=\"95.410156\" xlink:href=\"#DejaVuSans-50\"/>\n       <use x=\"159.033203\" xlink:href=\"#DejaVuSans-48\"/>\n      </g>\n     </g>\n    </g>\n    <g id=\"ytick_4\">\n     <g id=\"line2d_9\">\n      <g>\n       <use style=\"fill:#ffffff;stroke:#ffffff;stroke-width:0.8;\" x=\"36.465625\" xlink:href=\"#m353d87b576\" y=\"129.359442\"/>\n      </g>\n     </g>\n     <g id=\"text_9\">\n      <!-- 0.22 -->\n      <g style=\"fill:#ffffff;\" transform=\"translate(7.2 133.15866)scale(0.1 -0.1)\">\n       <use xlink:href=\"#DejaVuSans-48\"/>\n       <use x=\"63.623047\" xlink:href=\"#DejaVuSans-46\"/>\n       <use x=\"95.410156\" xlink:href=\"#DejaVuSans-50\"/>\n       <use x=\"159.033203\" xlink:href=\"#DejaVuSans-50\"/>\n      </g>\n     </g>\n    </g>\n    <g id=\"ytick_5\">\n     <g id=\"line2d_10\">\n      <g>\n       <use style=\"fill:#ffffff;stroke:#ffffff;stroke-width:0.8;\" x=\"36.465625\" xlink:href=\"#m353d87b576\" y=\"86.572735\"/>\n      </g>\n     </g>\n     <g id=\"text_10\">\n      <!-- 0.24 -->\n      <g style=\"fill:#ffffff;\" transform=\"translate(7.2 90.371953)scale(0.1 -0.1)\">\n       <use xlink:href=\"#DejaVuSans-48\"/>\n       <use x=\"63.623047\" xlink:href=\"#DejaVuSans-46\"/>\n       <use x=\"95.410156\" xlink:href=\"#DejaVuSans-50\"/>\n       <use x=\"159.033203\" xlink:href=\"#DejaVuSans-52\"/>\n      </g>\n     </g>\n    </g>\n    <g id=\"ytick_6\">\n     <g id=\"line2d_11\">\n      <g>\n       <use style=\"fill:#ffffff;stroke:#ffffff;stroke-width:0.8;\" x=\"36.465625\" xlink:href=\"#m353d87b576\" y=\"43.786028\"/>\n      </g>\n     </g>\n     <g id=\"text_11\">\n      <!-- 0.26 -->\n      <g style=\"fill:#ffffff;\" transform=\"translate(7.2 47.585246)scale(0.1 -0.1)\">\n       <use xlink:href=\"#DejaVuSans-48\"/>\n       <use x=\"63.623047\" xlink:href=\"#DejaVuSans-46\"/>\n       <use x=\"95.410156\" xlink:href=\"#DejaVuSans-50\"/>\n       <use x=\"159.033203\" xlink:href=\"#DejaVuSans-54\"/>\n      </g>\n     </g>\n    </g>\n   </g>\n   <g id=\"line2d_12\">\n    <path clip-path=\"url(#pad48399129)\" d=\"M 54.22017 34.67267 \nL 93.674716 198.086598 \nL 133.129261 223.937424 \nL 172.583807 238.079339 \nL 212.038352 244.186602 \nL 251.492898 256.038713 \nL 290.947443 263.156434 \nL 330.401989 270.111133 \nL 369.856534 277.823184 \nL 409.31108 281.76358 \n\" style=\"fill:none;stroke:#8dd3c7;stroke-linecap:square;stroke-width:1.5;\"/>\n   </g>\n   <g id=\"line2d_13\">\n    <path clip-path=\"url(#pad48399129)\" d=\"M 54.22017 184.187234 \nL 93.674716 220.81238 \nL 133.129261 232.29334 \nL 172.583807 241.983102 \nL 212.038352 245.599415 \nL 251.492898 245.858626 \nL 290.947443 246.962153 \nL 330.401989 245.142746 \nL 369.856534 249.71109 \nL 409.31108 243.965047 \n\" style=\"fill:none;stroke:#feffb3;stroke-linecap:square;stroke-width:1.5;\"/>\n   </g>\n   <g id=\"patch_3\">\n    <path d=\"M 36.465625 294.118125 \nL 36.465625 22.318125 \n\" style=\"fill:none;stroke:#ffffff;stroke-linecap:square;stroke-linejoin:miter;stroke-width:0.8;\"/>\n   </g>\n   <g id=\"patch_4\">\n    <path d=\"M 427.065625 294.118125 \nL 427.065625 22.318125 \n\" style=\"fill:none;stroke:#ffffff;stroke-linecap:square;stroke-linejoin:miter;stroke-width:0.8;\"/>\n   </g>\n   <g id=\"patch_5\">\n    <path d=\"M 36.465625 294.118125 \nL 427.065625 294.118125 \n\" style=\"fill:none;stroke:#ffffff;stroke-linecap:square;stroke-linejoin:miter;stroke-width:0.8;\"/>\n   </g>\n   <g id=\"patch_6\">\n    <path d=\"M 36.465625 22.318125 \nL 427.065625 22.318125 \n\" style=\"fill:none;stroke:#ffffff;stroke-linecap:square;stroke-linejoin:miter;stroke-width:0.8;\"/>\n   </g>\n   <g id=\"text_12\">\n    <!-- Loss -->\n    <defs>\n     <path d=\"M 9.8125 72.90625 \nL 19.671875 72.90625 \nL 19.671875 8.296875 \nL 55.171875 8.296875 \nL 55.171875 0 \nL 9.8125 0 \nz\n\" id=\"DejaVuSans-76\"/>\n     <path d=\"M 30.609375 48.390625 \nQ 23.390625 48.390625 19.1875 42.75 \nQ 14.984375 37.109375 14.984375 27.296875 \nQ 14.984375 17.484375 19.15625 11.84375 \nQ 23.34375 6.203125 30.609375 6.203125 \nQ 37.796875 6.203125 41.984375 11.859375 \nQ 46.1875 17.53125 46.1875 27.296875 \nQ 46.1875 37.015625 41.984375 42.703125 \nQ 37.796875 48.390625 30.609375 48.390625 \nz\nM 30.609375 56 \nQ 42.328125 56 49.015625 48.375 \nQ 55.71875 40.765625 55.71875 27.296875 \nQ 55.71875 13.875 49.015625 6.21875 \nQ 42.328125 -1.421875 30.609375 -1.421875 \nQ 18.84375 -1.421875 12.171875 6.21875 \nQ 5.515625 13.875 5.515625 27.296875 \nQ 5.515625 40.765625 12.171875 48.375 \nQ 18.84375 56 30.609375 56 \nz\n\" id=\"DejaVuSans-111\"/>\n     <path d=\"M 44.28125 53.078125 \nL 44.28125 44.578125 \nQ 40.484375 46.53125 36.375 47.5 \nQ 32.28125 48.484375 27.875 48.484375 \nQ 21.1875 48.484375 17.84375 46.4375 \nQ 14.5 44.390625 14.5 40.28125 \nQ 14.5 37.15625 16.890625 35.375 \nQ 19.28125 33.59375 26.515625 31.984375 \nL 29.59375 31.296875 \nQ 39.15625 29.25 43.1875 25.515625 \nQ 47.21875 21.78125 47.21875 15.09375 \nQ 47.21875 7.46875 41.1875 3.015625 \nQ 35.15625 -1.421875 24.609375 -1.421875 \nQ 20.21875 -1.421875 15.453125 -0.5625 \nQ 10.6875 0.296875 5.421875 2 \nL 5.421875 11.28125 \nQ 10.40625 8.6875 15.234375 7.390625 \nQ 20.0625 6.109375 24.8125 6.109375 \nQ 31.15625 6.109375 34.5625 8.28125 \nQ 37.984375 10.453125 37.984375 14.40625 \nQ 37.984375 18.0625 35.515625 20.015625 \nQ 33.0625 21.96875 24.703125 23.78125 \nL 21.578125 24.515625 \nQ 13.234375 26.265625 9.515625 29.90625 \nQ 5.8125 33.546875 5.8125 39.890625 \nQ 5.8125 47.609375 11.28125 51.796875 \nQ 16.75 56 26.8125 56 \nQ 31.78125 56 36.171875 55.265625 \nQ 40.578125 54.546875 44.28125 53.078125 \nz\n\" id=\"DejaVuSans-115\"/>\n    </defs>\n    <g style=\"fill:#ffffff;\" transform=\"translate(218.500937 16.318125)scale(0.12 -0.12)\">\n     <use xlink:href=\"#DejaVuSans-76\"/>\n     <use x=\"55.697266\" xlink:href=\"#DejaVuSans-111\"/>\n     <use x=\"116.878906\" xlink:href=\"#DejaVuSans-115\"/>\n     <use x=\"168.978516\" xlink:href=\"#DejaVuSans-115\"/>\n    </g>\n   </g>\n   <g id=\"legend_1\">\n    <g id=\"patch_7\">\n     <path d=\"M 364.114062 59.674375 \nL 420.065625 59.674375 \nQ 422.065625 59.674375 422.065625 57.674375 \nL 422.065625 29.318125 \nQ 422.065625 27.318125 420.065625 27.318125 \nL 364.114062 27.318125 \nQ 362.114062 27.318125 362.114062 29.318125 \nL 362.114062 57.674375 \nQ 362.114062 59.674375 364.114062 59.674375 \nz\n\" style=\"opacity:0.8;stroke:#cccccc;stroke-linejoin:miter;\"/>\n    </g>\n    <g id=\"line2d_14\">\n     <path d=\"M 366.114062 35.416562 \nL 386.114062 35.416562 \n\" style=\"fill:none;stroke:#8dd3c7;stroke-linecap:square;stroke-width:1.5;\"/>\n    </g>\n    <g id=\"line2d_15\"/>\n    <g id=\"text_13\">\n     <!-- train -->\n     <defs>\n      <path d=\"M 18.3125 70.21875 \nL 18.3125 54.6875 \nL 36.8125 54.6875 \nL 36.8125 47.703125 \nL 18.3125 47.703125 \nL 18.3125 18.015625 \nQ 18.3125 11.328125 20.140625 9.421875 \nQ 21.96875 7.515625 27.59375 7.515625 \nL 36.8125 7.515625 \nL 36.8125 0 \nL 27.59375 0 \nQ 17.1875 0 13.234375 3.875 \nQ 9.28125 7.765625 9.28125 18.015625 \nL 9.28125 47.703125 \nL 2.6875 47.703125 \nL 2.6875 54.6875 \nL 9.28125 54.6875 \nL 9.28125 70.21875 \nz\n\" id=\"DejaVuSans-116\"/>\n      <path d=\"M 41.109375 46.296875 \nQ 39.59375 47.171875 37.8125 47.578125 \nQ 36.03125 48 33.890625 48 \nQ 26.265625 48 22.1875 43.046875 \nQ 18.109375 38.09375 18.109375 28.8125 \nL 18.109375 0 \nL 9.078125 0 \nL 9.078125 54.6875 \nL 18.109375 54.6875 \nL 18.109375 46.1875 \nQ 20.953125 51.171875 25.484375 53.578125 \nQ 30.03125 56 36.53125 56 \nQ 37.453125 56 38.578125 55.875 \nQ 39.703125 55.765625 41.0625 55.515625 \nz\n\" id=\"DejaVuSans-114\"/>\n      <path d=\"M 34.28125 27.484375 \nQ 23.390625 27.484375 19.1875 25 \nQ 14.984375 22.515625 14.984375 16.5 \nQ 14.984375 11.71875 18.140625 8.90625 \nQ 21.296875 6.109375 26.703125 6.109375 \nQ 34.1875 6.109375 38.703125 11.40625 \nQ 43.21875 16.703125 43.21875 25.484375 \nL 43.21875 27.484375 \nz\nM 52.203125 31.203125 \nL 52.203125 0 \nL 43.21875 0 \nL 43.21875 8.296875 \nQ 40.140625 3.328125 35.546875 0.953125 \nQ 30.953125 -1.421875 24.3125 -1.421875 \nQ 15.921875 -1.421875 10.953125 3.296875 \nQ 6 8.015625 6 15.921875 \nQ 6 25.140625 12.171875 29.828125 \nQ 18.359375 34.515625 30.609375 34.515625 \nL 43.21875 34.515625 \nL 43.21875 35.40625 \nQ 43.21875 41.609375 39.140625 45 \nQ 35.0625 48.390625 27.6875 48.390625 \nQ 23 48.390625 18.546875 47.265625 \nQ 14.109375 46.140625 10.015625 43.890625 \nL 10.015625 52.203125 \nQ 14.9375 54.109375 19.578125 55.046875 \nQ 24.21875 56 28.609375 56 \nQ 40.484375 56 46.34375 49.84375 \nQ 52.203125 43.703125 52.203125 31.203125 \nz\n\" id=\"DejaVuSans-97\"/>\n      <path d=\"M 9.421875 54.6875 \nL 18.40625 54.6875 \nL 18.40625 0 \nL 9.421875 0 \nz\nM 9.421875 75.984375 \nL 18.40625 75.984375 \nL 18.40625 64.59375 \nL 9.421875 64.59375 \nz\n\" id=\"DejaVuSans-105\"/>\n      <path d=\"M 54.890625 33.015625 \nL 54.890625 0 \nL 45.90625 0 \nL 45.90625 32.71875 \nQ 45.90625 40.484375 42.875 44.328125 \nQ 39.84375 48.1875 33.796875 48.1875 \nQ 26.515625 48.1875 22.3125 43.546875 \nQ 18.109375 38.921875 18.109375 30.90625 \nL 18.109375 0 \nL 9.078125 0 \nL 9.078125 54.6875 \nL 18.109375 54.6875 \nL 18.109375 46.1875 \nQ 21.34375 51.125 25.703125 53.5625 \nQ 30.078125 56 35.796875 56 \nQ 45.21875 56 50.046875 50.171875 \nQ 54.890625 44.34375 54.890625 33.015625 \nz\n\" id=\"DejaVuSans-110\"/>\n     </defs>\n     <g style=\"fill:#ffffff;\" transform=\"translate(394.114062 38.916562)scale(0.1 -0.1)\">\n      <use xlink:href=\"#DejaVuSans-116\"/>\n      <use x=\"39.208984\" xlink:href=\"#DejaVuSans-114\"/>\n      <use x=\"80.322266\" xlink:href=\"#DejaVuSans-97\"/>\n      <use x=\"141.601562\" xlink:href=\"#DejaVuSans-105\"/>\n      <use x=\"169.384766\" xlink:href=\"#DejaVuSans-110\"/>\n     </g>\n    </g>\n    <g id=\"line2d_16\">\n     <path d=\"M 366.114062 50.094688 \nL 386.114062 50.094688 \n\" style=\"fill:none;stroke:#feffb3;stroke-linecap:square;stroke-width:1.5;\"/>\n    </g>\n    <g id=\"line2d_17\"/>\n    <g id=\"text_14\">\n     <!-- valid -->\n     <defs>\n      <path d=\"M 2.984375 54.6875 \nL 12.5 54.6875 \nL 29.59375 8.796875 \nL 46.6875 54.6875 \nL 56.203125 54.6875 \nL 35.6875 0 \nL 23.484375 0 \nz\n\" id=\"DejaVuSans-118\"/>\n      <path d=\"M 9.421875 75.984375 \nL 18.40625 75.984375 \nL 18.40625 0 \nL 9.421875 0 \nz\n\" id=\"DejaVuSans-108\"/>\n      <path d=\"M 45.40625 46.390625 \nL 45.40625 75.984375 \nL 54.390625 75.984375 \nL 54.390625 0 \nL 45.40625 0 \nL 45.40625 8.203125 \nQ 42.578125 3.328125 38.25 0.953125 \nQ 33.9375 -1.421875 27.875 -1.421875 \nQ 17.96875 -1.421875 11.734375 6.484375 \nQ 5.515625 14.40625 5.515625 27.296875 \nQ 5.515625 40.1875 11.734375 48.09375 \nQ 17.96875 56 27.875 56 \nQ 33.9375 56 38.25 53.625 \nQ 42.578125 51.265625 45.40625 46.390625 \nz\nM 14.796875 27.296875 \nQ 14.796875 17.390625 18.875 11.75 \nQ 22.953125 6.109375 30.078125 6.109375 \nQ 37.203125 6.109375 41.296875 11.75 \nQ 45.40625 17.390625 45.40625 27.296875 \nQ 45.40625 37.203125 41.296875 42.84375 \nQ 37.203125 48.484375 30.078125 48.484375 \nQ 22.953125 48.484375 18.875 42.84375 \nQ 14.796875 37.203125 14.796875 27.296875 \nz\n\" id=\"DejaVuSans-100\"/>\n     </defs>\n     <g style=\"fill:#ffffff;\" transform=\"translate(394.114062 53.594688)scale(0.1 -0.1)\">\n      <use xlink:href=\"#DejaVuSans-118\"/>\n      <use x=\"59.179688\" xlink:href=\"#DejaVuSans-97\"/>\n      <use x=\"120.458984\" xlink:href=\"#DejaVuSans-108\"/>\n      <use x=\"148.242188\" xlink:href=\"#DejaVuSans-105\"/>\n      <use x=\"176.025391\" xlink:href=\"#DejaVuSans-100\"/>\n     </g>\n    </g>\n   </g>\n  </g>\n </g>\n <defs>\n  <clipPath id=\"pad48399129\">\n   <rect height=\"271.8\" width=\"390.6\" x=\"36.465625\" y=\"22.318125\"/>\n  </clipPath>\n </defs>\n</svg>\n",
      "text/plain": "<Figure size 504x360 with 1 Axes>"
     },
     "metadata": {
      "needs_background": "dark"
     },
     "output_type": "display_data"
    },
    {
     "data": {
      "image/png": "[encoded data removed]",
      "image/svg+xml": "<?xml version=\"1.0\" encoding=\"utf-8\" standalone=\"no\"?>\n<!DOCTYPE svg PUBLIC \"-//W3C//DTD SVG 1.1//EN\"\n  \"http://www.w3.org/Graphics/SVG/1.1/DTD/svg11.dtd\">\n<!-- Created with matplotlib (https://matplotlib.org/) -->\n<svg height=\"317.99625pt\" version=\"1.1\" viewBox=\"0 0 427.903125 317.99625\" width=\"427.903125pt\" xmlns=\"http://www.w3.org/2000/svg\" xmlns:xlink=\"http://www.w3.org/1999/xlink\">\n <defs>\n  <style type=\"text/css\">\n*{stroke-linecap:butt;stroke-linejoin:round;}\n  </style>\n </defs>\n <g id=\"figure_1\">\n  <g id=\"patch_1\">\n   <path d=\"M 0 317.99625 \nL 427.903125 317.99625 \nL 427.903125 0 \nL 0 0 \nz\n\" style=\"fill:none;\"/>\n  </g>\n  <g id=\"axes_1\">\n   <g id=\"patch_2\">\n    <path d=\"M 30.103125 294.118125 \nL 420.703125 294.118125 \nL 420.703125 22.318125 \nL 30.103125 22.318125 \nz\n\"/>\n   </g>\n   <g id=\"matplotlib.axis_1\">\n    <g id=\"xtick_1\">\n     <g id=\"line2d_1\">\n      <defs>\n       <path d=\"M 0 0 \nL 0 3.5 \n\" id=\"m44f695c886\" style=\"stroke:#ffffff;stroke-width:0.8;\"/>\n      </defs>\n      <g>\n       <use style=\"fill:#ffffff;stroke:#ffffff;stroke-width:0.8;\" x=\"47.85767\" xlink:href=\"#m44f695c886\" y=\"294.118125\"/>\n      </g>\n     </g>\n     <g id=\"text_1\">\n      <!-- 0 -->\n      <defs>\n       <path d=\"M 31.78125 66.40625 \nQ 24.171875 66.40625 20.328125 58.90625 \nQ 16.5 51.421875 16.5 36.375 \nQ 16.5 21.390625 20.328125 13.890625 \nQ 24.171875 6.390625 31.78125 6.390625 \nQ 39.453125 6.390625 43.28125 13.890625 \nQ 47.125 21.390625 47.125 36.375 \nQ 47.125 51.421875 43.28125 58.90625 \nQ 39.453125 66.40625 31.78125 66.40625 \nz\nM 31.78125 74.21875 \nQ 44.046875 74.21875 50.515625 64.515625 \nQ 56.984375 54.828125 56.984375 36.375 \nQ 56.984375 17.96875 50.515625 8.265625 \nQ 44.046875 -1.421875 31.78125 -1.421875 \nQ 19.53125 -1.421875 13.0625 8.265625 \nQ 6.59375 17.96875 6.59375 36.375 \nQ 6.59375 54.828125 13.0625 64.515625 \nQ 19.53125 74.21875 31.78125 74.21875 \nz\n\" id=\"DejaVuSans-48\"/>\n      </defs>\n      <g style=\"fill:#ffffff;\" transform=\"translate(44.67642 308.716563)scale(0.1 -0.1)\">\n       <use xlink:href=\"#DejaVuSans-48\"/>\n      </g>\n     </g>\n    </g>\n    <g id=\"xtick_2\">\n     <g id=\"line2d_2\">\n      <g>\n       <use style=\"fill:#ffffff;stroke:#ffffff;stroke-width:0.8;\" x=\"126.766761\" xlink:href=\"#m44f695c886\" y=\"294.118125\"/>\n      </g>\n     </g>\n     <g id=\"text_2\">\n      <!-- 2 -->\n      <defs>\n       <path d=\"M 19.1875 8.296875 \nL 53.609375 8.296875 \nL 53.609375 0 \nL 7.328125 0 \nL 7.328125 8.296875 \nQ 12.9375 14.109375 22.625 23.890625 \nQ 32.328125 33.6875 34.8125 36.53125 \nQ 39.546875 41.84375 41.421875 45.53125 \nQ 43.3125 49.21875 43.3125 52.78125 \nQ 43.3125 58.59375 39.234375 62.25 \nQ 35.15625 65.921875 28.609375 65.921875 \nQ 23.96875 65.921875 18.8125 64.3125 \nQ 13.671875 62.703125 7.8125 59.421875 \nL 7.8125 69.390625 \nQ 13.765625 71.78125 18.9375 73 \nQ 24.125 74.21875 28.421875 74.21875 \nQ 39.75 74.21875 46.484375 68.546875 \nQ 53.21875 62.890625 53.21875 53.421875 \nQ 53.21875 48.921875 51.53125 44.890625 \nQ 49.859375 40.875 45.40625 35.40625 \nQ 44.1875 33.984375 37.640625 27.21875 \nQ 31.109375 20.453125 19.1875 8.296875 \nz\n\" id=\"DejaVuSans-50\"/>\n      </defs>\n      <g style=\"fill:#ffffff;\" transform=\"translate(123.585511 308.716563)scale(0.1 -0.1)\">\n       <use xlink:href=\"#DejaVuSans-50\"/>\n      </g>\n     </g>\n    </g>\n    <g id=\"xtick_3\">\n     <g id=\"line2d_3\">\n      <g>\n       <use style=\"fill:#ffffff;stroke:#ffffff;stroke-width:0.8;\" x=\"205.675852\" xlink:href=\"#m44f695c886\" y=\"294.118125\"/>\n      </g>\n     </g>\n     <g id=\"text_3\">\n      <!-- 4 -->\n      <defs>\n       <path d=\"M 37.796875 64.3125 \nL 12.890625 25.390625 \nL 37.796875 25.390625 \nz\nM 35.203125 72.90625 \nL 47.609375 72.90625 \nL 47.609375 25.390625 \nL 58.015625 25.390625 \nL 58.015625 17.1875 \nL 47.609375 17.1875 \nL 47.609375 0 \nL 37.796875 0 \nL 37.796875 17.1875 \nL 4.890625 17.1875 \nL 4.890625 26.703125 \nz\n\" id=\"DejaVuSans-52\"/>\n      </defs>\n      <g style=\"fill:#ffffff;\" transform=\"translate(202.494602 308.716563)scale(0.1 -0.1)\">\n       <use xlink:href=\"#DejaVuSans-52\"/>\n      </g>\n     </g>\n    </g>\n    <g id=\"xtick_4\">\n     <g id=\"line2d_4\">\n      <g>\n       <use style=\"fill:#ffffff;stroke:#ffffff;stroke-width:0.8;\" x=\"284.584943\" xlink:href=\"#m44f695c886\" y=\"294.118125\"/>\n      </g>\n     </g>\n     <g id=\"text_4\">\n      <!-- 6 -->\n      <defs>\n       <path d=\"M 33.015625 40.375 \nQ 26.375 40.375 22.484375 35.828125 \nQ 18.609375 31.296875 18.609375 23.390625 \nQ 18.609375 15.53125 22.484375 10.953125 \nQ 26.375 6.390625 33.015625 6.390625 \nQ 39.65625 6.390625 43.53125 10.953125 \nQ 47.40625 15.53125 47.40625 23.390625 \nQ 47.40625 31.296875 43.53125 35.828125 \nQ 39.65625 40.375 33.015625 40.375 \nz\nM 52.59375 71.296875 \nL 52.59375 62.3125 \nQ 48.875 64.0625 45.09375 64.984375 \nQ 41.3125 65.921875 37.59375 65.921875 \nQ 27.828125 65.921875 22.671875 59.328125 \nQ 17.53125 52.734375 16.796875 39.40625 \nQ 19.671875 43.65625 24.015625 45.921875 \nQ 28.375 48.1875 33.59375 48.1875 \nQ 44.578125 48.1875 50.953125 41.515625 \nQ 57.328125 34.859375 57.328125 23.390625 \nQ 57.328125 12.15625 50.6875 5.359375 \nQ 44.046875 -1.421875 33.015625 -1.421875 \nQ 20.359375 -1.421875 13.671875 8.265625 \nQ 6.984375 17.96875 6.984375 36.375 \nQ 6.984375 53.65625 15.1875 63.9375 \nQ 23.390625 74.21875 37.203125 74.21875 \nQ 40.921875 74.21875 44.703125 73.484375 \nQ 48.484375 72.75 52.59375 71.296875 \nz\n\" id=\"DejaVuSans-54\"/>\n      </defs>\n      <g style=\"fill:#ffffff;\" transform=\"translate(281.403693 308.716563)scale(0.1 -0.1)\">\n       <use xlink:href=\"#DejaVuSans-54\"/>\n      </g>\n     </g>\n    </g>\n    <g id=\"xtick_5\">\n     <g id=\"line2d_5\">\n      <g>\n       <use style=\"fill:#ffffff;stroke:#ffffff;stroke-width:0.8;\" x=\"363.494034\" xlink:href=\"#m44f695c886\" y=\"294.118125\"/>\n      </g>\n     </g>\n     <g id=\"text_5\">\n      <!-- 8 -->\n      <defs>\n       <path d=\"M 31.78125 34.625 \nQ 24.75 34.625 20.71875 30.859375 \nQ 16.703125 27.09375 16.703125 20.515625 \nQ 16.703125 13.921875 20.71875 10.15625 \nQ 24.75 6.390625 31.78125 6.390625 \nQ 38.8125 6.390625 42.859375 10.171875 \nQ 46.921875 13.96875 46.921875 20.515625 \nQ 46.921875 27.09375 42.890625 30.859375 \nQ 38.875 34.625 31.78125 34.625 \nz\nM 21.921875 38.8125 \nQ 15.578125 40.375 12.03125 44.71875 \nQ 8.5 49.078125 8.5 55.328125 \nQ 8.5 64.0625 14.71875 69.140625 \nQ 20.953125 74.21875 31.78125 74.21875 \nQ 42.671875 74.21875 48.875 69.140625 \nQ 55.078125 64.0625 55.078125 55.328125 \nQ 55.078125 49.078125 51.53125 44.71875 \nQ 48 40.375 41.703125 38.8125 \nQ 48.828125 37.15625 52.796875 32.3125 \nQ 56.78125 27.484375 56.78125 20.515625 \nQ 56.78125 9.90625 50.3125 4.234375 \nQ 43.84375 -1.421875 31.78125 -1.421875 \nQ 19.734375 -1.421875 13.25 4.234375 \nQ 6.78125 9.90625 6.78125 20.515625 \nQ 6.78125 27.484375 10.78125 32.3125 \nQ 14.796875 37.15625 21.921875 38.8125 \nz\nM 18.3125 54.390625 \nQ 18.3125 48.734375 21.84375 45.5625 \nQ 25.390625 42.390625 31.78125 42.390625 \nQ 38.140625 42.390625 41.71875 45.5625 \nQ 45.3125 48.734375 45.3125 54.390625 \nQ 45.3125 60.0625 41.71875 63.234375 \nQ 38.140625 66.40625 31.78125 66.40625 \nQ 25.390625 66.40625 21.84375 63.234375 \nQ 18.3125 60.0625 18.3125 54.390625 \nz\n\" id=\"DejaVuSans-56\"/>\n      </defs>\n      <g style=\"fill:#ffffff;\" transform=\"translate(360.312784 308.716563)scale(0.1 -0.1)\">\n       <use xlink:href=\"#DejaVuSans-56\"/>\n      </g>\n     </g>\n    </g>\n   </g>\n   <g id=\"matplotlib.axis_2\">\n    <g id=\"ytick_1\">\n     <g id=\"line2d_6\">\n      <defs>\n       <path d=\"M 0 0 \nL -3.5 0 \n\" id=\"mb8769fabf7\" style=\"stroke:#ffffff;stroke-width:0.8;\"/>\n      </defs>\n      <g>\n       <use style=\"fill:#ffffff;stroke:#ffffff;stroke-width:0.8;\" x=\"30.103125\" xlink:href=\"#mb8769fabf7\" y=\"258.096701\"/>\n      </g>\n     </g>\n     <g id=\"text_6\">\n      <!-- 0.3 -->\n      <defs>\n       <path d=\"M 10.6875 12.40625 \nL 21 12.40625 \nL 21 0 \nL 10.6875 0 \nz\n\" id=\"DejaVuSans-46\"/>\n       <path d=\"M 40.578125 39.3125 \nQ 47.65625 37.796875 51.625 33 \nQ 55.609375 28.21875 55.609375 21.1875 \nQ 55.609375 10.40625 48.1875 4.484375 \nQ 40.765625 -1.421875 27.09375 -1.421875 \nQ 22.515625 -1.421875 17.65625 -0.515625 \nQ 12.796875 0.390625 7.625 2.203125 \nL 7.625 11.71875 \nQ 11.71875 9.328125 16.59375 8.109375 \nQ 21.484375 6.890625 26.8125 6.890625 \nQ 36.078125 6.890625 40.9375 10.546875 \nQ 45.796875 14.203125 45.796875 21.1875 \nQ 45.796875 27.640625 41.28125 31.265625 \nQ 36.765625 34.90625 28.71875 34.90625 \nL 20.21875 34.90625 \nL 20.21875 43.015625 \nL 29.109375 43.015625 \nQ 36.375 43.015625 40.234375 45.921875 \nQ 44.09375 48.828125 44.09375 54.296875 \nQ 44.09375 59.90625 40.109375 62.90625 \nQ 36.140625 65.921875 28.71875 65.921875 \nQ 24.65625 65.921875 20.015625 65.03125 \nQ 15.375 64.15625 9.8125 62.3125 \nL 9.8125 71.09375 \nQ 15.4375 72.65625 20.34375 73.4375 \nQ 25.25 74.21875 29.59375 74.21875 \nQ 40.828125 74.21875 47.359375 69.109375 \nQ 53.90625 64.015625 53.90625 55.328125 \nQ 53.90625 49.265625 50.4375 45.09375 \nQ 46.96875 40.921875 40.578125 39.3125 \nz\n\" id=\"DejaVuSans-51\"/>\n      </defs>\n      <g style=\"fill:#ffffff;\" transform=\"translate(7.2 261.89592)scale(0.1 -0.1)\">\n       <use xlink:href=\"#DejaVuSans-48\"/>\n       <use x=\"63.623047\" xlink:href=\"#DejaVuSans-46\"/>\n       <use x=\"95.410156\" xlink:href=\"#DejaVuSans-51\"/>\n      </g>\n     </g>\n    </g>\n    <g id=\"ytick_2\">\n     <g id=\"line2d_7\">\n      <g>\n       <use style=\"fill:#ffffff;stroke:#ffffff;stroke-width:0.8;\" x=\"30.103125\" xlink:href=\"#mb8769fabf7\" y=\"203.603671\"/>\n      </g>\n     </g>\n     <g id=\"text_7\">\n      <!-- 0.4 -->\n      <g style=\"fill:#ffffff;\" transform=\"translate(7.2 207.40289)scale(0.1 -0.1)\">\n       <use xlink:href=\"#DejaVuSans-48\"/>\n       <use x=\"63.623047\" xlink:href=\"#DejaVuSans-46\"/>\n       <use x=\"95.410156\" xlink:href=\"#DejaVuSans-52\"/>\n      </g>\n     </g>\n    </g>\n    <g id=\"ytick_3\">\n     <g id=\"line2d_8\">\n      <g>\n       <use style=\"fill:#ffffff;stroke:#ffffff;stroke-width:0.8;\" x=\"30.103125\" xlink:href=\"#mb8769fabf7\" y=\"149.110641\"/>\n      </g>\n     </g>\n     <g id=\"text_8\">\n      <!-- 0.5 -->\n      <defs>\n       <path d=\"M 10.796875 72.90625 \nL 49.515625 72.90625 \nL 49.515625 64.59375 \nL 19.828125 64.59375 \nL 19.828125 46.734375 \nQ 21.96875 47.46875 24.109375 47.828125 \nQ 26.265625 48.1875 28.421875 48.1875 \nQ 40.625 48.1875 47.75 41.5 \nQ 54.890625 34.8125 54.890625 23.390625 \nQ 54.890625 11.625 47.5625 5.09375 \nQ 40.234375 -1.421875 26.90625 -1.421875 \nQ 22.3125 -1.421875 17.546875 -0.640625 \nQ 12.796875 0.140625 7.71875 1.703125 \nL 7.71875 11.625 \nQ 12.109375 9.234375 16.796875 8.0625 \nQ 21.484375 6.890625 26.703125 6.890625 \nQ 35.15625 6.890625 40.078125 11.328125 \nQ 45.015625 15.765625 45.015625 23.390625 \nQ 45.015625 31 40.078125 35.4375 \nQ 35.15625 39.890625 26.703125 39.890625 \nQ 22.75 39.890625 18.8125 39.015625 \nQ 14.890625 38.140625 10.796875 36.28125 \nz\n\" id=\"DejaVuSans-53\"/>\n      </defs>\n      <g style=\"fill:#ffffff;\" transform=\"translate(7.2 152.90986)scale(0.1 -0.1)\">\n       <use xlink:href=\"#DejaVuSans-48\"/>\n       <use x=\"63.623047\" xlink:href=\"#DejaVuSans-46\"/>\n       <use x=\"95.410156\" xlink:href=\"#DejaVuSans-53\"/>\n      </g>\n     </g>\n    </g>\n    <g id=\"ytick_4\">\n     <g id=\"line2d_9\">\n      <g>\n       <use style=\"fill:#ffffff;stroke:#ffffff;stroke-width:0.8;\" x=\"30.103125\" xlink:href=\"#mb8769fabf7\" y=\"94.617611\"/>\n      </g>\n     </g>\n     <g id=\"text_9\">\n      <!-- 0.6 -->\n      <g style=\"fill:#ffffff;\" transform=\"translate(7.2 98.41683)scale(0.1 -0.1)\">\n       <use xlink:href=\"#DejaVuSans-48\"/>\n       <use x=\"63.623047\" xlink:href=\"#DejaVuSans-46\"/>\n       <use x=\"95.410156\" xlink:href=\"#DejaVuSans-54\"/>\n      </g>\n     </g>\n    </g>\n    <g id=\"ytick_5\">\n     <g id=\"line2d_10\">\n      <g>\n       <use style=\"fill:#ffffff;stroke:#ffffff;stroke-width:0.8;\" x=\"30.103125\" xlink:href=\"#mb8769fabf7\" y=\"40.124581\"/>\n      </g>\n     </g>\n     <g id=\"text_10\">\n      <!-- 0.7 -->\n      <defs>\n       <path d=\"M 8.203125 72.90625 \nL 55.078125 72.90625 \nL 55.078125 68.703125 \nL 28.609375 0 \nL 18.3125 0 \nL 43.21875 64.59375 \nL 8.203125 64.59375 \nz\n\" id=\"DejaVuSans-55\"/>\n      </defs>\n      <g style=\"fill:#ffffff;\" transform=\"translate(7.2 43.9238)scale(0.1 -0.1)\">\n       <use xlink:href=\"#DejaVuSans-48\"/>\n       <use x=\"63.623047\" xlink:href=\"#DejaVuSans-46\"/>\n       <use x=\"95.410156\" xlink:href=\"#DejaVuSans-55\"/>\n      </g>\n     </g>\n    </g>\n   </g>\n   <g id=\"line2d_11\">\n    <path clip-path=\"url(#pba93f58b11)\" d=\"M 47.85767 281.76358 \nL 87.312216 103.380584 \nL 126.766761 78.088323 \nL 166.221307 65.961022 \nL 205.675852 58.518609 \nL 245.130398 51.346306 \nL 284.584943 48.844859 \nL 324.039489 43.268011 \nL 363.494034 38.013502 \nL 402.94858 34.67267 \n\" style=\"fill:none;stroke:#8dd3c7;stroke-linecap:square;stroke-width:1.5;\"/>\n   </g>\n   <g id=\"line2d_12\">\n    <path clip-path=\"url(#pba93f58b11)\" d=\"M 47.85767 143.731393 \nL 87.312216 84.885326 \nL 126.766761 79.438931 \nL 166.221307 68.253029 \nL 205.675852 67.288112 \nL 245.130398 63.283175 \nL 284.584943 58.147979 \nL 324.039489 64.429602 \nL 363.494034 56.401442 \nL 402.94858 58.217573 \n\" style=\"fill:none;stroke:#feffb3;stroke-linecap:square;stroke-width:1.5;\"/>\n   </g>\n   <g id=\"patch_3\">\n    <path d=\"M 30.103125 294.118125 \nL 30.103125 22.318125 \n\" style=\"fill:none;stroke:#ffffff;stroke-linecap:square;stroke-linejoin:miter;stroke-width:0.8;\"/>\n   </g>\n   <g id=\"patch_4\">\n    <path d=\"M 420.703125 294.118125 \nL 420.703125 22.318125 \n\" style=\"fill:none;stroke:#ffffff;stroke-linecap:square;stroke-linejoin:miter;stroke-width:0.8;\"/>\n   </g>\n   <g id=\"patch_5\">\n    <path d=\"M 30.103125 294.118125 \nL 420.703125 294.118125 \n\" style=\"fill:none;stroke:#ffffff;stroke-linecap:square;stroke-linejoin:miter;stroke-width:0.8;\"/>\n   </g>\n   <g id=\"patch_6\">\n    <path d=\"M 30.103125 22.318125 \nL 420.703125 22.318125 \n\" style=\"fill:none;stroke:#ffffff;stroke-linecap:square;stroke-linejoin:miter;stroke-width:0.8;\"/>\n   </g>\n   <g id=\"text_11\">\n    <!-- F1 Score -->\n    <defs>\n     <path d=\"M 9.8125 72.90625 \nL 51.703125 72.90625 \nL 51.703125 64.59375 \nL 19.671875 64.59375 \nL 19.671875 43.109375 \nL 48.578125 43.109375 \nL 48.578125 34.8125 \nL 19.671875 34.8125 \nL 19.671875 0 \nL 9.8125 0 \nz\n\" id=\"DejaVuSans-70\"/>\n     <path d=\"M 12.40625 8.296875 \nL 28.515625 8.296875 \nL 28.515625 63.921875 \nL 10.984375 60.40625 \nL 10.984375 69.390625 \nL 28.421875 72.90625 \nL 38.28125 72.90625 \nL 38.28125 8.296875 \nL 54.390625 8.296875 \nL 54.390625 0 \nL 12.40625 0 \nz\n\" id=\"DejaVuSans-49\"/>\n     <path id=\"DejaVuSans-32\"/>\n     <path d=\"M 53.515625 70.515625 \nL 53.515625 60.890625 \nQ 47.90625 63.578125 42.921875 64.890625 \nQ 37.9375 66.21875 33.296875 66.21875 \nQ 25.25 66.21875 20.875 63.09375 \nQ 16.5 59.96875 16.5 54.203125 \nQ 16.5 49.359375 19.40625 46.890625 \nQ 22.3125 44.4375 30.421875 42.921875 \nL 36.375 41.703125 \nQ 47.40625 39.59375 52.65625 34.296875 \nQ 57.90625 29 57.90625 20.125 \nQ 57.90625 9.515625 50.796875 4.046875 \nQ 43.703125 -1.421875 29.984375 -1.421875 \nQ 24.8125 -1.421875 18.96875 -0.25 \nQ 13.140625 0.921875 6.890625 3.21875 \nL 6.890625 13.375 \nQ 12.890625 10.015625 18.65625 8.296875 \nQ 24.421875 6.59375 29.984375 6.59375 \nQ 38.421875 6.59375 43.015625 9.90625 \nQ 47.609375 13.234375 47.609375 19.390625 \nQ 47.609375 24.75 44.3125 27.78125 \nQ 41.015625 30.8125 33.5 32.328125 \nL 27.484375 33.5 \nQ 16.453125 35.6875 11.515625 40.375 \nQ 6.59375 45.0625 6.59375 53.421875 \nQ 6.59375 63.09375 13.40625 68.65625 \nQ 20.21875 74.21875 32.171875 74.21875 \nQ 37.3125 74.21875 42.625 73.28125 \nQ 47.953125 72.359375 53.515625 70.515625 \nz\n\" id=\"DejaVuSans-83\"/>\n     <path d=\"M 48.78125 52.59375 \nL 48.78125 44.1875 \nQ 44.96875 46.296875 41.140625 47.34375 \nQ 37.3125 48.390625 33.40625 48.390625 \nQ 24.65625 48.390625 19.8125 42.84375 \nQ 14.984375 37.3125 14.984375 27.296875 \nQ 14.984375 17.28125 19.8125 11.734375 \nQ 24.65625 6.203125 33.40625 6.203125 \nQ 37.3125 6.203125 41.140625 7.25 \nQ 44.96875 8.296875 48.78125 10.40625 \nL 48.78125 2.09375 \nQ 45.015625 0.34375 40.984375 -0.53125 \nQ 36.96875 -1.421875 32.421875 -1.421875 \nQ 20.0625 -1.421875 12.78125 6.34375 \nQ 5.515625 14.109375 5.515625 27.296875 \nQ 5.515625 40.671875 12.859375 48.328125 \nQ 20.21875 56 33.015625 56 \nQ 37.15625 56 41.109375 55.140625 \nQ 45.0625 54.296875 48.78125 52.59375 \nz\n\" id=\"DejaVuSans-99\"/>\n     <path d=\"M 30.609375 48.390625 \nQ 23.390625 48.390625 19.1875 42.75 \nQ 14.984375 37.109375 14.984375 27.296875 \nQ 14.984375 17.484375 19.15625 11.84375 \nQ 23.34375 6.203125 30.609375 6.203125 \nQ 37.796875 6.203125 41.984375 11.859375 \nQ 46.1875 17.53125 46.1875 27.296875 \nQ 46.1875 37.015625 41.984375 42.703125 \nQ 37.796875 48.390625 30.609375 48.390625 \nz\nM 30.609375 56 \nQ 42.328125 56 49.015625 48.375 \nQ 55.71875 40.765625 55.71875 27.296875 \nQ 55.71875 13.875 49.015625 6.21875 \nQ 42.328125 -1.421875 30.609375 -1.421875 \nQ 18.84375 -1.421875 12.171875 6.21875 \nQ 5.515625 13.875 5.515625 27.296875 \nQ 5.515625 40.765625 12.171875 48.375 \nQ 18.84375 56 30.609375 56 \nz\n\" id=\"DejaVuSans-111\"/>\n     <path d=\"M 41.109375 46.296875 \nQ 39.59375 47.171875 37.8125 47.578125 \nQ 36.03125 48 33.890625 48 \nQ 26.265625 48 22.1875 43.046875 \nQ 18.109375 38.09375 18.109375 28.8125 \nL 18.109375 0 \nL 9.078125 0 \nL 9.078125 54.6875 \nL 18.109375 54.6875 \nL 18.109375 46.1875 \nQ 20.953125 51.171875 25.484375 53.578125 \nQ 30.03125 56 36.53125 56 \nQ 37.453125 56 38.578125 55.875 \nQ 39.703125 55.765625 41.0625 55.515625 \nz\n\" id=\"DejaVuSans-114\"/>\n     <path d=\"M 56.203125 29.59375 \nL 56.203125 25.203125 \nL 14.890625 25.203125 \nQ 15.484375 15.921875 20.484375 11.0625 \nQ 25.484375 6.203125 34.421875 6.203125 \nQ 39.59375 6.203125 44.453125 7.46875 \nQ 49.3125 8.734375 54.109375 11.28125 \nL 54.109375 2.78125 \nQ 49.265625 0.734375 44.1875 -0.34375 \nQ 39.109375 -1.421875 33.890625 -1.421875 \nQ 20.796875 -1.421875 13.15625 6.1875 \nQ 5.515625 13.8125 5.515625 26.8125 \nQ 5.515625 40.234375 12.765625 48.109375 \nQ 20.015625 56 32.328125 56 \nQ 43.359375 56 49.78125 48.890625 \nQ 56.203125 41.796875 56.203125 29.59375 \nz\nM 47.21875 32.234375 \nQ 47.125 39.59375 43.09375 43.984375 \nQ 39.0625 48.390625 32.421875 48.390625 \nQ 24.90625 48.390625 20.390625 44.140625 \nQ 15.875 39.890625 15.1875 32.171875 \nz\n\" id=\"DejaVuSans-101\"/>\n    </defs>\n    <g style=\"fill:#ffffff;\" transform=\"translate(199.291875 16.318125)scale(0.12 -0.12)\">\n     <use xlink:href=\"#DejaVuSans-70\"/>\n     <use x=\"57.519531\" xlink:href=\"#DejaVuSans-49\"/>\n     <use x=\"121.142578\" xlink:href=\"#DejaVuSans-32\"/>\n     <use x=\"152.929688\" xlink:href=\"#DejaVuSans-83\"/>\n     <use x=\"216.40625\" xlink:href=\"#DejaVuSans-99\"/>\n     <use x=\"271.386719\" xlink:href=\"#DejaVuSans-111\"/>\n     <use x=\"332.568359\" xlink:href=\"#DejaVuSans-114\"/>\n     <use x=\"373.650391\" xlink:href=\"#DejaVuSans-101\"/>\n    </g>\n   </g>\n   <g id=\"legend_1\">\n    <g id=\"patch_7\">\n     <path d=\"M 37.103125 59.674375 \nL 93.054688 59.674375 \nQ 95.054688 59.674375 95.054688 57.674375 \nL 95.054688 29.318125 \nQ 95.054688 27.318125 93.054688 27.318125 \nL 37.103125 27.318125 \nQ 35.103125 27.318125 35.103125 29.318125 \nL 35.103125 57.674375 \nQ 35.103125 59.674375 37.103125 59.674375 \nz\n\" style=\"opacity:0.8;stroke:#cccccc;stroke-linejoin:miter;\"/>\n    </g>\n    <g id=\"line2d_13\">\n     <path d=\"M 39.103125 35.416562 \nL 59.103125 35.416562 \n\" style=\"fill:none;stroke:#8dd3c7;stroke-linecap:square;stroke-width:1.5;\"/>\n    </g>\n    <g id=\"line2d_14\"/>\n    <g id=\"text_12\">\n     <!-- train -->\n     <defs>\n      <path d=\"M 18.3125 70.21875 \nL 18.3125 54.6875 \nL 36.8125 54.6875 \nL 36.8125 47.703125 \nL 18.3125 47.703125 \nL 18.3125 18.015625 \nQ 18.3125 11.328125 20.140625 9.421875 \nQ 21.96875 7.515625 27.59375 7.515625 \nL 36.8125 7.515625 \nL 36.8125 0 \nL 27.59375 0 \nQ 17.1875 0 13.234375 3.875 \nQ 9.28125 7.765625 9.28125 18.015625 \nL 9.28125 47.703125 \nL 2.6875 47.703125 \nL 2.6875 54.6875 \nL 9.28125 54.6875 \nL 9.28125 70.21875 \nz\n\" id=\"DejaVuSans-116\"/>\n      <path d=\"M 34.28125 27.484375 \nQ 23.390625 27.484375 19.1875 25 \nQ 14.984375 22.515625 14.984375 16.5 \nQ 14.984375 11.71875 18.140625 8.90625 \nQ 21.296875 6.109375 26.703125 6.109375 \nQ 34.1875 6.109375 38.703125 11.40625 \nQ 43.21875 16.703125 43.21875 25.484375 \nL 43.21875 27.484375 \nz\nM 52.203125 31.203125 \nL 52.203125 0 \nL 43.21875 0 \nL 43.21875 8.296875 \nQ 40.140625 3.328125 35.546875 0.953125 \nQ 30.953125 -1.421875 24.3125 -1.421875 \nQ 15.921875 -1.421875 10.953125 3.296875 \nQ 6 8.015625 6 15.921875 \nQ 6 25.140625 12.171875 29.828125 \nQ 18.359375 34.515625 30.609375 34.515625 \nL 43.21875 34.515625 \nL 43.21875 35.40625 \nQ 43.21875 41.609375 39.140625 45 \nQ 35.0625 48.390625 27.6875 48.390625 \nQ 23 48.390625 18.546875 47.265625 \nQ 14.109375 46.140625 10.015625 43.890625 \nL 10.015625 52.203125 \nQ 14.9375 54.109375 19.578125 55.046875 \nQ 24.21875 56 28.609375 56 \nQ 40.484375 56 46.34375 49.84375 \nQ 52.203125 43.703125 52.203125 31.203125 \nz\n\" id=\"DejaVuSans-97\"/>\n      <path d=\"M 9.421875 54.6875 \nL 18.40625 54.6875 \nL 18.40625 0 \nL 9.421875 0 \nz\nM 9.421875 75.984375 \nL 18.40625 75.984375 \nL 18.40625 64.59375 \nL 9.421875 64.59375 \nz\n\" id=\"DejaVuSans-105\"/>\n      <path d=\"M 54.890625 33.015625 \nL 54.890625 0 \nL 45.90625 0 \nL 45.90625 32.71875 \nQ 45.90625 40.484375 42.875 44.328125 \nQ 39.84375 48.1875 33.796875 48.1875 \nQ 26.515625 48.1875 22.3125 43.546875 \nQ 18.109375 38.921875 18.109375 30.90625 \nL 18.109375 0 \nL 9.078125 0 \nL 9.078125 54.6875 \nL 18.109375 54.6875 \nL 18.109375 46.1875 \nQ 21.34375 51.125 25.703125 53.5625 \nQ 30.078125 56 35.796875 56 \nQ 45.21875 56 50.046875 50.171875 \nQ 54.890625 44.34375 54.890625 33.015625 \nz\n\" id=\"DejaVuSans-110\"/>\n     </defs>\n     <g style=\"fill:#ffffff;\" transform=\"translate(67.103125 38.916562)scale(0.1 -0.1)\">\n      <use xlink:href=\"#DejaVuSans-116\"/>\n      <use x=\"39.208984\" xlink:href=\"#DejaVuSans-114\"/>\n      <use x=\"80.322266\" xlink:href=\"#DejaVuSans-97\"/>\n      <use x=\"141.601562\" xlink:href=\"#DejaVuSans-105\"/>\n      <use x=\"169.384766\" xlink:href=\"#DejaVuSans-110\"/>\n     </g>\n    </g>\n    <g id=\"line2d_15\">\n     <path d=\"M 39.103125 50.094688 \nL 59.103125 50.094688 \n\" style=\"fill:none;stroke:#feffb3;stroke-linecap:square;stroke-width:1.5;\"/>\n    </g>\n    <g id=\"line2d_16\"/>\n    <g id=\"text_13\">\n     <!-- valid -->\n     <defs>\n      <path d=\"M 2.984375 54.6875 \nL 12.5 54.6875 \nL 29.59375 8.796875 \nL 46.6875 54.6875 \nL 56.203125 54.6875 \nL 35.6875 0 \nL 23.484375 0 \nz\n\" id=\"DejaVuSans-118\"/>\n      <path d=\"M 9.421875 75.984375 \nL 18.40625 75.984375 \nL 18.40625 0 \nL 9.421875 0 \nz\n\" id=\"DejaVuSans-108\"/>\n      <path d=\"M 45.40625 46.390625 \nL 45.40625 75.984375 \nL 54.390625 75.984375 \nL 54.390625 0 \nL 45.40625 0 \nL 45.40625 8.203125 \nQ 42.578125 3.328125 38.25 0.953125 \nQ 33.9375 -1.421875 27.875 -1.421875 \nQ 17.96875 -1.421875 11.734375 6.484375 \nQ 5.515625 14.40625 5.515625 27.296875 \nQ 5.515625 40.1875 11.734375 48.09375 \nQ 17.96875 56 27.875 56 \nQ 33.9375 56 38.25 53.625 \nQ 42.578125 51.265625 45.40625 46.390625 \nz\nM 14.796875 27.296875 \nQ 14.796875 17.390625 18.875 11.75 \nQ 22.953125 6.109375 30.078125 6.109375 \nQ 37.203125 6.109375 41.296875 11.75 \nQ 45.40625 17.390625 45.40625 27.296875 \nQ 45.40625 37.203125 41.296875 42.84375 \nQ 37.203125 48.484375 30.078125 48.484375 \nQ 22.953125 48.484375 18.875 42.84375 \nQ 14.796875 37.203125 14.796875 27.296875 \nz\n\" id=\"DejaVuSans-100\"/>\n     </defs>\n     <g style=\"fill:#ffffff;\" transform=\"translate(67.103125 53.594688)scale(0.1 -0.1)\">\n      <use xlink:href=\"#DejaVuSans-118\"/>\n      <use x=\"59.179688\" xlink:href=\"#DejaVuSans-97\"/>\n      <use x=\"120.458984\" xlink:href=\"#DejaVuSans-108\"/>\n      <use x=\"148.242188\" xlink:href=\"#DejaVuSans-105\"/>\n      <use x=\"176.025391\" xlink:href=\"#DejaVuSans-100\"/>\n     </g>\n    </g>\n   </g>\n  </g>\n </g>\n <defs>\n  <clipPath id=\"pba93f58b11\">\n   <rect height=\"271.8\" width=\"390.6\" x=\"30.103125\" y=\"22.318125\"/>\n  </clipPath>\n </defs>\n</svg>\n",
      "text/plain": "<Figure size 504x360 with 1 Axes>"
     },
     "metadata": {
      "needs_background": "dark"
     },
     "output_type": "display_data"
    }
   ],
   "source": [
    "model = Net(len(word_dict))\n",
    "\n",
    "opt = torch.optim.AdamW(model.parameters(), lr=learning_rate)\n",
    "criteria = torch.nn.BCELoss()\n",
    "model.to(device)\n",
    "history = {'train':[],'valid':[]}\n",
    "\n",
    "## Tensorboard\n",
    "## save path: test_experiment/\n",
    "tf_path = os.path.join(CWD, 'test_experiment')\n",
    "if not os.path.exists(tf_path):\n",
    "    os.mkdir(tf_path)\n",
    "writer = SummaryWriter(os.path.join(tf_path,config_fname))\n",
    "\n",
    "for epoch in range(max_epoch):\n",
    "    print('Epoch: {}'.format(epoch))\n",
    "    _run_epoch(epoch, 'train')\n",
    "    _run_epoch(epoch, 'valid')\n",
    "    save(epoch)\n",
    "\n",
    "# Plot the training results \n",
    "with open(os.path.join(CWD,'model/history.json'), 'r') as f:\n",
    "    history = json.loads(f.read())\n",
    "    \n",
    "train_loss = [l['loss'] for l in history['train']]\n",
    "valid_loss = [l['loss'] for l in history['valid']]\n",
    "train_f1 = [l['f1'] for l in history['train']]\n",
    "valid_f1 = [l['f1'] for l in history['valid']]\n",
    "\n",
    "plt.figure(figsize=(7,5))\n",
    "plt.title('Loss')\n",
    "plt.plot(train_loss, label='train')\n",
    "plt.plot(valid_loss, label='valid')\n",
    "plt.legend()\n",
    "plt.show()\n",
    "\n",
    "plt.figure(figsize=(7,5))\n",
    "plt.title('F1 Score')\n",
    "plt.plot(train_f1, label='train')\n",
    "plt.plot(valid_f1, label='valid')\n",
    "plt.legend()\n",
    "plt.show()\n",
    "\n",
    "print('Best F1 score ', max([[l['f1'], idx] for idx, l in enumerate(history['valid'])]))"
   ]
  },
  {
   "cell_type": "code",
   "execution_count": 26,
   "metadata": {},
   "outputs": [
    {
     "name": "stderr",
     "output_type": "stream",
     "text": "| 590/1250 [00:37<00:42, 15.71it/s]\u001b[A\nPredict:  47%|████▋     | 592/1250 [00:38<00:46, 14.11it/s]\u001b[A\nPredict:  48%|████▊     | 594/1250 [00:38<00:45, 14.51it/s]\u001b[A\nPredict:  48%|████▊     | 597/1250 [00:38<00:44, 14.81it/s]\u001b[A\nPredict:  48%|████▊     | 600/1250 [00:38<00:39, 16.28it/s]\u001b[A\nPredict:  48%|████▊     | 602/1250 [00:38<00:38, 16.71it/s]\u001b[A\nPredict:  48%|████▊     | 604/1250 [00:38<00:36, 17.51it/s]\u001b[A\nPredict:  48%|████▊     | 606/1250 [00:38<00:38, 16.93it/s]\u001b[A\nPredict:  49%|████▊     | 608/1250 [00:38<00:38, 16.59it/s]\u001b[A\nPredict:  49%|████▉     | 610/1250 [00:39<00:39, 16.04it/s]\u001b[A\nPredict:  49%|████▉     | 612/1250 [00:39<00:38, 16.38it/s]\u001b[A\nPredict:  49%|████▉     | 614/1250 [00:39<00:42, 15.09it/s]\u001b[A\nPredict:  49%|████▉     | 616/1250 [00:39<00:39, 16.11it/s]\u001b[A\nPredict:  49%|████▉     | 618/1250 [00:39<00:39, 15.96it/s]\u001b[A\nPredict:  50%|████▉     | 620/1250 [00:39<00:37, 16.96it/s]\u001b[A\nPredict:  50%|████▉     | 623/1250 [00:39<00:35, 17.69it/s]\u001b[A\nPredict:  50%|█████     | 625/1250 [00:39<00:38, 16.14it/s]\u001b[A\nPredict:  50%|█████     | 627/1250 [00:40<00:36, 16.86it/s]\u001b[A\nPredict:  50%|█████     | 629/1250 [00:40<00:36, 17.11it/s]\u001b[A\nPredict:  50%|█████     | 631/1250 [00:40<00:35, 17.51it/s]\u001b[A\nPredict:  51%|█████     | 633/1250 [00:40<00:34, 17.71it/s]\u001b[A\nPredict:  51%|█████     | 635/1250 [00:40<00:38, 15.98it/s]\u001b[A\nPredict:  51%|█████     | 637/1250 [00:40<00:46, 13.13it/s]\u001b[A\nPredict:  51%|█████     | 639/1250 [00:40<00:42, 14.54it/s]\u001b[A\nPredict:  51%|█████▏    | 641/1250 [00:41<00:44, 13.76it/s]\u001b[A\nPredict:  51%|█████▏    | 643/1250 [00:41<00:41, 14.61it/s]\u001b[A\nPredict:  52%|█████▏    | 645/1250 [00:41<00:39, 15.21it/s]\u001b[A\nPredict:  52%|█████▏    | 647/1250 [00:41<00:45, 13.34it/s]\u001b[A\nPredict:  52%|█████▏    | 649/1250 [00:41<00:41, 14.59it/s]\u001b[A\nPredict:  52%|█████▏    | 651/1250 [00:41<00:39, 15.08it/s]\u001b[A\nPredict:  52%|█████▏    | 653/1250 [00:41<00:38, 15.38it/s]\u001b[A\nPredict:  52%|█████▏    | 655/1250 [00:42<00:41, 14.30it/s]\u001b[A\nPredict:  53%|█████▎    | 657/1250 [00:42<00:40, 14.60it/s]\u001b[A\nPredict:  53%|█████▎    | 659/1250 [00:42<00:38, 15.50it/s]\u001b[A\nPredict:  53%|█████▎    | 661/1250 [00:42<00:36, 16.24it/s]\u001b[A\nPredict:  53%|█████▎    | 663/1250 [00:42<00:39, 14.91it/s]\u001b[A\nPredict:  53%|█████▎    | 665/1250 [00:42<00:37, 15.41it/s]\u001b[A\nPredict:  53%|█████▎    | 668/1250 [00:42<00:35, 16.49it/s]\u001b[A\nPredict:  54%|█████▎    | 670/1250 [00:42<00:33, 17.35it/s]\u001b[A\nPredict:  54%|█████▍    | 672/1250 [00:43<00:32, 17.77it/s]\u001b[A\nPredict:  54%|█████▍    | 674/1250 [00:43<00:32, 17.64it/s]\u001b[A\nPredict:  54%|█████▍    | 676/1250 [00:43<00:38, 14.80it/s]\u001b[A\nPredict:  54%|█████▍    | 678/1250 [00:43<00:37, 15.41it/s]\u001b[A\nPredict:  54%|█████▍    | 680/1250 [00:43<00:36, 15.65it/s]\u001b[A\nPredict:  55%|█████▍    | 682/1250 [00:43<00:37, 15.26it/s]\u001b[A\nPredict:  55%|█████▍    | 684/1250 [00:43<00:37, 15.13it/s]\u001b[A\nPredict:  55%|█████▍    | 686/1250 [00:43<00:35, 15.83it/s]\u001b[A\nPredict:  55%|█████▌    | 688/1250 [00:44<00:35, 15.65it/s]\u001b[A\nPredict:  55%|█████▌    | 690/1250 [00:44<00:35, 15.73it/s]\u001b[A\nPredict:  55%|█████▌    | 692/1250 [00:44<00:34, 15.95it/s]\u001b[A\nPredict:  56%|█████▌    | 694/1250 [00:44<00:32, 16.87it/s]\u001b[A\nPredict:  56%|█████▌    | 696/1250 [00:44<00:32, 16.86it/s]\u001b[A\nPredict:  56%|█████▌    | 698/1250 [00:44<00:31, 17.37it/s]\u001b[A\nPredict:  56%|█████▌    | 700/1250 [00:44<00:35, 15.66it/s]\u001b[A\nPredict:  56%|█████▌    | 702/1250 [00:44<00:38, 14.16it/s]\u001b[A\nPredict:  56%|█████▋    | 704/1250 [00:45<00:43, 12.58it/s]\u001b[A\nPredict:  56%|█████▋    | 706/1250 [00:45<00:40, 13.47it/s]\u001b[A\nPredict:  57%|█████▋    | 709/1250 [00:45<00:36, 14.65it/s]\u001b[A\nPredict:  57%|█████▋    | 711/1250 [00:45<00:36, 14.87it/s]\u001b[A\nPredict:  57%|█████▋    | 713/1250 [00:45<00:34, 15.43it/s]\u001b[A\nPredict:  57%|█████▋    | 715/1250 [00:45<00:33, 15.80it/s]\u001b[A\nPredict:  57%|█████▋    | 717/1250 [00:45<00:35, 14.95it/s]\u001b[A\nPredict:  58%|█████▊    | 719/1250 [00:46<00:34, 15.25it/s]\u001b[A\nPredict:  58%|█████▊    | 721/1250 [00:46<00:34, 15.38it/s]\u001b[A\nPredict:  58%|█████▊    | 723/1250 [00:46<00:36, 14.42it/s]\u001b[A\nPredict:  58%|█████▊    | 725/1250 [00:46<00:34, 15.36it/s]\u001b[A\nPredict:  58%|█████▊    | 727/1250 [00:46<00:37, 13.93it/s]\u001b[A\nPredict:  58%|█████▊    | 729/1250 [00:46<00:36, 14.35it/s]\u001b[A\nPredict:  58%|█████▊    | 731/1250 [00:46<00:35, 14.58it/s]\u001b[A\nPredict:  59%|█████▊    | 733/1250 [00:47<00:36, 14.28it/s]\u001b[A\nPredict:  59%|█████▉    | 735/1250 [00:47<00:38, 13.54it/s]\u001b[A\nPredict:  59%|█████▉    | 737/1250 [00:47<00:39, 13.07it/s]\u001b[A\nPredict:  59%|█████▉    | 739/1250 [00:47<00:38, 13.44it/s]\u001b[A\nPredict:  59%|█████▉    | 742/1250 [00:47<00:34, 14.82it/s]\u001b[A\nPredict:  60%|█████▉    | 744/1250 [00:47<00:33, 15.16it/s]\u001b[A\nPredict:  60%|█████▉    | 746/1250 [00:47<00:35, 14.30it/s]\u001b[A\nPredict:  60%|█████▉    | 748/1250 [00:48<00:32, 15.57it/s]\u001b[A\nPredict:  60%|██████    | 750/1250 [00:48<00:33, 14.98it/s]\u001b[A\nPredict:  60%|██████    | 752/1250 [00:48<00:31, 15.62it/s]\u001b[A\nPredict:  60%|██████    | 754/1250 [00:48<00:31, 15.91it/s]\u001b[A\nPredict:  60%|██████    | 756/1250 [00:48<00:32, 15.17it/s]\u001b[A\nPredict:  61%|██████    | 758/1250 [00:48<00:33, 14.72it/s]\u001b[A\nPredict:  61%|██████    | 760/1250 [00:48<00:30, 15.91it/s]\u001b[A\nPredict:  61%|██████    | 762/1250 [00:49<00:33, 14.48it/s]\u001b[A\nPredict:  61%|██████    | 764/1250 [00:49<00:32, 14.73it/s]\u001b[A\nPredict:  61%|██████▏   | 766/1250 [00:49<00:31, 15.50it/s]\u001b[A\nPredict:  61%|██████▏   | 768/1250 [00:49<00:32, 14.81it/s]\u001b[A\nPredict:  62%|██████▏   | 770/1250 [00:49<00:35, 13.53it/s]\u001b[A\nPredict:  62%|██████▏   | 772/1250 [00:49<00:32, 14.73it/s]\u001b[A\nPredict:  62%|██████▏   | 774/1250 [00:49<00:32, 14.85it/s]\u001b[A\nPredict:  62%|██████▏   | 776/1250 [00:49<00:32, 14.70it/s]\u001b[A\nPredict:  62%|██████▏   | 778/1250 [00:50<00:31, 14.96it/s]\u001b[A\nPredict:  62%|██████▏   | 780/1250 [00:50<00:31, 14.87it/s]\u001b[A\nPredict:  63%|██████▎   | 782/1250 [00:50<00:32, 14.60it/s]\u001b[A\nPredict:  63%|██████▎   | 784/1250 [00:50<00:31, 14.98it/s]\u001b[A\nPredict:  63%|██████▎   | 786/1250 [00:50<00:29, 15.53it/s]\u001b[A\nPredict:  63%|██████▎   | 788/1250 [00:50<00:29, 15.61it/s]\u001b[A\nPredict:  63%|██████▎   | 790/1250 [00:50<00:28, 16.18it/s]\u001b[A\nPredict:  63%|██████▎   | 792/1250 [00:51<00:29, 15.40it/s]\u001b[A\nPredict:  64%|██████▎   | 794/1250 [00:51<00:28, 15.90it/s]\u001b[A\nPredict:  64%|██████▎   | 796/1250 [00:51<00:30, 14.96it/s]\u001b[A\nPredict:  64%|██████▍   | 798/1250 [00:51<00:29, 15.35it/s]\u001b[A\nPredict:  64%|██████▍   | 800/1250 [00:51<00:30, 14.58it/s]\u001b[A\nPredict:  64%|██████▍   | 802/1250 [00:51<00:30, 14.56it/s]\u001b[A\nPredict:  64%|██████▍   | 804/1250 [00:51<00:28, 15.54it/s]\u001b[A\nPredict:  64%|██████▍   | 806/1250 [00:51<00:31, 14.06it/s]\u001b[A\nPredict:  65%|██████▍   | 808/1250 [00:52<00:30, 14.28it/s]\u001b[A\nPredict:  65%|██████▍   | 810/1250 [00:52<00:28, 15.48it/s]\u001b[A\nPredict:  65%|██████▍   | 812/1250 [00:52<00:28, 15.27it/s]\u001b[A\nPredict:  65%|██████▌   | 814/1250 [00:52<00:26, 16.42it/s]\u001b[A\nPredict:  65%|██████▌   | 816/1250 [00:52<00:30, 14.20it/s]\u001b[A\nPredict:  66%|██████▌   | 819/1250 [00:52<00:28, 15.36it/s]\u001b[A\nPredict:  66%|██████▌   | 821/1250 [00:52<00:27, 15.40it/s]\u001b[A\nPredict:  66%|██████▌   | 823/1250 [00:53<00:28, 15.10it/s]\u001b[A\nPredict:  66%|██████▌   | 825/1250 [00:53<00:28, 14.88it/s]\u001b[A\nPredict:  66%|██████▌   | 827/1250 [00:53<00:29, 14.46it/s]\u001b[A\nPredict:  66%|██████▋   | 829/1250 [00:53<00:27, 15.23it/s]\u001b[A\nPredict:  66%|██████▋   | 831/1250 [00:53<00:27, 15.32it/s]\u001b[A\nPredict:  67%|██████▋   | 833/1250 [00:53<00:27, 15.04it/s]\u001b[A\nPredict:  67%|██████▋   | 835/1250 [00:53<00:29, 13.87it/s]\u001b[A\nPredict:  67%|██████▋   | 837/1250 [00:54<00:27, 15.13it/s]\u001b[A\nPredict:  67%|██████▋   | 840/1250 [00:54<00:25, 16.17it/s]\u001b[A\nPredict:  67%|██████▋   | 842/1250 [00:54<00:24, 16.35it/s]\u001b[A\nPredict:  68%|██████▊   | 844/1250 [00:54<00:24, 16.45it/s]\u001b[A\nPredict:  68%|██████▊   | 846/1250 [00:54<00:25, 15.75it/s]\u001b[A\nPredict:  68%|██████▊   | 849/1250 [00:54<00:23, 16.74it/s]\u001b[A\nPredict:  68%|██████▊   | 851/1250 [00:54<00:23, 17.18it/s]\u001b[A\nPredict:  68%|██████▊   | 853/1250 [00:54<00:23, 16.61it/s]\u001b[A\nPredict:  68%|██████▊   | 855/1250 [00:55<00:25, 15.70it/s]\u001b[A\nPredict:  69%|██████▊   | 857/1250 [00:55<00:25, 15.26it/s]\u001b[A\nPredict:  69%|██████▊   | 859/1250 [00:55<00:26, 14.68it/s]\u001b[A\nPredict:  69%|██████▉   | 861/1250 [00:55<00:27, 14.27it/s]\u001b[A\nPredict:  69%|██████▉   | 863/1250 [00:55<00:25, 15.36it/s]\u001b[A\nPredict:  69%|██████▉   | 865/1250 [00:55<00:25, 15.31it/s]\u001b[A\nPredict:  69%|██████▉   | 867/1250 [00:55<00:24, 15.88it/s]\u001b[A\nPredict:  70%|██████▉   | 869/1250 [00:55<00:23, 16.21it/s]\u001b[A\nPredict:  70%|██████▉   | 872/1250 [00:56<00:22, 17.14it/s]\u001b[A\nPredict:  70%|██████▉   | 874/1250 [00:56<00:22, 17.00it/s]\u001b[A\nPredict:  70%|███████   | 876/1250 [00:56<00:23, 16.20it/s]\u001b[A\nPredict:  70%|███████   | 878/1250 [00:56<00:24, 15.15it/s]\u001b[A\nPredict:  70%|███████   | 880/1250 [00:56<00:23, 16.02it/s]\u001b[A\nPredict:  71%|███████   | 882/1250 [00:56<00:27, 13.50it/s]\u001b[A\nPredict:  71%|███████   | 884/1250 [00:56<00:25, 14.25it/s]\u001b[A\nPredict:  71%|███████   | 886/1250 [00:57<00:23, 15.45it/s]\u001b[A\nPredict:  71%|███████   | 888/1250 [00:57<00:25, 14.45it/s]\u001b[A\nPredict:  71%|███████   | 890/1250 [00:57<00:26, 13.47it/s]\u001b[A\nPredict:  71%|███████▏  | 892/1250 [00:57<00:27, 13.02it/s]\u001b[A\nPredict:  72%|███████▏  | 894/1250 [00:57<00:25, 14.19it/s]\u001b[A\nPredict:  72%|███████▏  | 896/1250 [00:57<00:23, 14.78it/s]\u001b[A\nPredict:  72%|███████▏  | 898/1250 [00:57<00:23, 14.70it/s]\u001b[A\nPredict:  72%|███████▏  | 900/1250 [00:58<00:23, 15.10it/s]\u001b[A\nPredict:  72%|███████▏  | 902/1250 [00:58<00:23, 14.61it/s]\u001b[A\nPredict:  72%|███████▏  | 904/1250 [00:58<00:21, 15.78it/s]\u001b[A\nPredict:  72%|███████▏  | 906/1250 [00:58<00:20, 16.77it/s]\u001b[A\nPredict:  73%|███████▎  | 909/1250 [00:58<00:19, 17.06it/s]\u001b[A\nPredict:  73%|███████▎  | 911/1250 [00:58<00:19, 17.46it/s]\u001b[A\nPredict:  73%|███████▎  | 913/1250 [00:58<00:20, 16.54it/s]\u001b[A\nPredict:  73%|███████▎  | 915/1250 [00:58<00:21, 15.64it/s]\u001b[A\nPredict:  73%|███████▎  | 917/1250 [00:59<00:19, 16.70it/s]\u001b[A\nPredict:  74%|███████▎  | 919/1250 [00:59<00:21, 15.20it/s]\u001b[A\nPredict:  74%|███████▎  | 921/1250 [00:59<00:20, 15.95it/s]\u001b[A\nPredict:  74%|███████▍  | 923/1250 [00:59<00:21, 15.36it/s]\u001b[A\nPredict:  74%|███████▍  | 925/1250 [00:59<00:21, 15.04it/s]\u001b[A\nPredict:  74%|███████▍  | 927/1250 [00:59<00:21, 15.02it/s]\u001b[A\nPredict:  74%|███████▍  | 929/1250 [00:59<00:20, 15.40it/s]\u001b[A\nPredict:  74%|███████▍  | 931/1250 [01:00<00:21, 15.11it/s]\u001b[A\nPredict:  75%|███████▍  | 933/1250 [01:00<00:19, 15.92it/s]\u001b[A\nPredict:  75%|███████▍  | 935/1250 [01:00<00:18, 16.88it/s]\u001b[A\nPredict:  75%|███████▍  | 937/1250 [01:00<00:19, 16.35it/s]\u001b[A\nPredict:  75%|███████▌  | 939/1250 [01:00<00:19, 16.27it/s]\u001b[A\nPredict:  75%|███████▌  | 941/1250 [01:00<00:18, 16.44it/s]\u001b[A\nPredict:  76%|███████▌  | 944/1250 [01:00<00:17, 17.02it/s]\u001b[A\nPredict:  76%|███████▌  | 946/1250 [01:00<00:17, 17.37it/s]\u001b[A\nPredict:  76%|███████▌  | 948/1250 [01:01<00:18, 16.45it/s]\u001b[A\nPredict:  76%|███████▌  | 950/1250 [01:01<00:17, 17.08it/s]\u001b[A\nPredict:  76%|███████▌  | 952/1250 [01:01<00:18, 16.34it/s]\u001b[A\nPredict:  76%|███████▋  | 954/1250 [01:01<00:21, 13.95it/s]\u001b[A\nPredict:  76%|███████▋  | 956/1250 [01:01<00:19, 15.22it/s]\u001b[A\nPredict:  77%|███████▋  | 958/1250 [01:01<00:18, 16.00it/s]\u001b[A\nPredict:  77%|███████▋  | 960/1250 [01:01<00:18, 15.95it/s]\u001b[A\nPredict:  77%|███████▋  | 962/1250 [01:01<00:18, 15.65it/s]\u001b[A\nPredict:  77%|███████▋  | 964/1250 [01:02<00:18, 15.62it/s]\u001b[A\nPredict:  77%|███████▋  | 966/1250 [01:02<00:21, 13.11it/s]\u001b[A\nPredict:  77%|███████▋  | 968/1250 [01:02<00:20, 13.69it/s]\u001b[A\nPredict:  78%|███████▊  | 970/1250 [01:02<00:22, 12.67it/s]\u001b[A\nPredict:  78%|███████▊  | 972/1250 [01:02<00:20, 13.85it/s]\u001b[A\nPredict:  78%|███████▊  | 974/1250 [01:02<00:22, 12.04it/s]\u001b[A\nPredict:  78%|███████▊  | 976/1250 [01:03<00:21, 12.51it/s]\u001b[A\nPredict:  78%|███████▊  | 978/1250 [01:03<00:20, 13.27it/s]\u001b[A\nPredict:  78%|███████▊  | 980/1250 [01:03<00:19, 13.87it/s]\u001b[A\nPredict:  79%|███████▊  | 982/1250 [01:03<00:18, 14.59it/s]\u001b[A\nPredict:  79%|███████▊  | 984/1250 [01:03<00:17, 15.45it/s]\u001b[A\nPredict:  79%|███████▉  | 986/1250 [01:03<00:17, 15.26it/s]\u001b[A\nPredict:  79%|███████▉  | 988/1250 [01:03<00:17, 15.06it/s]\u001b[A\nPredict:  79%|███████▉  | 990/1250 [01:03<00:16, 16.00it/s]\u001b[A\nPredict:  79%|███████▉  | 992/1250 [01:04<00:17, 14.94it/s]\u001b[A\nPredict:  80%|███████▉  | 994/1250 [01:04<00:16, 15.54it/s]\u001b[A\nPredict:  80%|███████▉  | 996/1250 [01:04<00:17, 14.55it/s]\u001b[A\nPredict:  80%|███████▉  | 998/1250 [01:04<00:16, 14.91it/s]\u001b[A\nPredict:  80%|████████  | 1000/1250 [01:04<00:17, 14.35it/s]\u001b[A\nPredict:  80%|████████  | 1002/1250 [01:04<00:17, 14.26it/s]\u001b[A\nPredict:  80%|████████  | 1004/1250 [01:04<00:19, 12.91it/s]\u001b[A\nPredict:  80%|████████  | 1006/1250 [01:05<00:17, 13.97it/s]\u001b[A\nPredict:  81%|████████  | 1009/1250 [01:05<00:15, 15.70it/s]\u001b[A\nPredict:  81%|████████  | 1011/1250 [01:05<00:15, 15.57it/s]\u001b[A\nPredict:  81%|████████  | 1013/1250 [01:05<00:14, 16.40it/s]\u001b[A\nPredict:  81%|████████▏ | 1016/1250 [01:05<00:13, 17.16it/s]\u001b[A\nPredict:  81%|████████▏ | 1018/1250 [01:05<00:13, 16.89it/s]\u001b[A\nPredict:  82%|████████▏ | 1020/1250 [01:05<00:14, 16.43it/s]\u001b[A\nPredict:  82%|████████▏ | 1022/1250 [01:06<00:14, 15.36it/s]\u001b[A\nPredict:  82%|████████▏ | 1024/1250 [01:06<00:13, 16.43it/s]\u001b[A\nPredict:  82%|████████▏ | 1027/1250 [01:06<00:13, 16.39it/s]\u001b[A\nPredict:  82%|████████▏ | 1030/1250 [01:06<00:13, 15.97it/s]\u001b[A\nPredict:  83%|████████▎ | 1032/1250 [01:06<00:13, 15.66it/s]\u001b[A\nPredict:  83%|████████▎ | 1034/1250 [01:06<00:15, 14.09it/s]\u001b[A\nPredict:  83%|████████▎ | 1036/1250 [01:06<00:15, 13.79it/s]\u001b[A\nPredict:  83%|████████▎ | 1038/1250 [01:07<00:15, 13.90it/s]\u001b[A\nPredict:  83%|████████▎ | 1040/1250 [01:07<00:14, 14.53it/s]\u001b[A\nPredict:  83%|████████▎ | 1042/1250 [01:07<00:13, 15.20it/s]\u001b[A\nPredict:  84%|████████▎ | 1044/1250 [01:07<00:13, 15.22it/s]\u001b[A\nPredict:  84%|████████▎ | 1046/1250 [01:07<00:12, 16.14it/s]\u001b[A\nPredict:  84%|████████▍ | 1048/1250 [01:07<00:13, 14.72it/s]\u001b[A\nPredict:  84%|████████▍ | 1050/1250 [01:07<00:12, 15.60it/s]\u001b[A\nPredict:  84%|████████▍ | 1052/1250 [01:07<00:12, 15.40it/s]\u001b[A\nPredict:  84%|████████▍ | 1054/1250 [01:08<00:12, 15.41it/s]\u001b[A\nPredict:  84%|████████▍ | 1056/1250 [01:08<00:12, 15.71it/s]\u001b[A\nPredict:  85%|████████▍ | 1058/1250 [01:08<00:11, 16.04it/s]\u001b[A\nPredict:  85%|████████▍ | 1060/1250 [01:08<00:11, 16.51it/s]\u001b[A\nPredict:  85%|████████▌ | 1063/1250 [01:08<00:10, 17.09it/s]\u001b[A\nPredict:  85%|████████▌ | 1065/1250 [01:08<00:10, 17.13it/s]\u001b[A\nPredict:  85%|████████▌ | 1067/1250 [01:08<00:10, 17.03it/s]\u001b[A\nPredict:  86%|████████▌ | 1069/1250 [01:09<00:11, 16.35it/s]\u001b[A\nPredict:  86%|████████▌ | 1071/1250 [01:09<00:10, 16.46it/s]\u001b[A\nPredict:  86%|████████▌ | 1074/1250 [01:09<00:10, 16.92it/s]\u001b[A\nPredict:  86%|████████▌ | 1076/1250 [01:09<00:10, 16.28it/s]\u001b[A\nPredict:  86%|████████▌ | 1078/1250 [01:09<00:12, 13.35it/s]\u001b[A\nPredict:  86%|████████▋ | 1080/1250 [01:09<00:12, 13.37it/s]\u001b[A\nPredict:  87%|████████▋ | 1082/1250 [01:09<00:12, 13.73it/s]\u001b[A\nPredict:  87%|████████▋ | 1084/1250 [01:10<00:11, 13.85it/s]\u001b[A\nPredict:  87%|████████▋ | 1086/1250 [01:10<00:10, 15.25it/s]\u001b[A\nPredict:  87%|████████▋ | 1088/1250 [01:10<00:10, 14.96it/s]\u001b[A\nPredict:  87%|████████▋ | 1090/1250 [01:10<00:10, 14.95it/s]\u001b[A\nPredict:  87%|████████▋ | 1092/1250 [01:10<00:09, 15.97it/s]\u001b[A\nPredict:  88%|████████▊ | 1094/1250 [01:10<00:09, 16.13it/s]\u001b[A\nPredict:  88%|████████▊ | 1096/1250 [01:10<00:09, 16.66it/s]\u001b[A\nPredict:  88%|████████▊ | 1098/1250 [01:10<00:09, 15.36it/s]\u001b[A\nPredict:  88%|████████▊ | 1101/1250 [01:11<00:09, 15.77it/s]\u001b[A\nPredict:  88%|████████▊ | 1103/1250 [01:11<00:08, 16.80it/s]\u001b[A\nPredict:  88%|████████▊ | 1105/1250 [01:11<00:08, 16.80it/s]\u001b[A\nPredict:  89%|████████▊ | 1107/1250 [01:11<00:08, 16.16it/s]\u001b[A\nPredict:  89%|████████▊ | 1109/1250 [01:11<00:08, 15.88it/s]\u001b[A\nPredict:  89%|████████▉ | 1112/1250 [01:11<00:08, 17.18it/s]\u001b[A\nPredict:  89%|████████▉ | 1114/1250 [01:11<00:08, 16.87it/s]\u001b[A\nPredict:  89%|████████▉ | 1116/1250 [01:11<00:07, 17.12it/s]\u001b[A\nPredict:  90%|████████▉ | 1119/1250 [01:12<00:07, 17.84it/s]\u001b[A\nPredict:  90%|████████▉ | 1121/1250 [01:12<00:09, 14.18it/s]\u001b[A\nPredict:  90%|████████▉ | 1123/1250 [01:12<00:08, 15.38it/s]\u001b[A\nPredict:  90%|█████████ | 1125/1250 [01:12<00:08, 14.68it/s]\u001b[A\nPredict:  90%|█████████ | 1127/1250 [01:12<00:07, 15.73it/s]\u001b[A\nPredict:  90%|█████████ | 1129/1250 [01:12<00:07, 15.64it/s]\u001b[A\nPredict:  90%|█████████ | 1131/1250 [01:12<00:07, 16.44it/s]\u001b[A\nPredict:  91%|█████████ | 1133/1250 [01:13<00:06, 17.36it/s]\u001b[A\nPredict:  91%|█████████ | 1135/1250 [01:13<00:06, 17.29it/s]\u001b[A\nPredict:  91%|█████████ | 1137/1250 [01:13<00:07, 14.94it/s]\u001b[A\nPredict:  91%|█████████ | 1139/1250 [01:13<00:07, 15.35it/s]\u001b[A\nPredict:  91%|█████████▏| 1141/1250 [01:13<00:07, 15.24it/s]\u001b[A\nPredict:  91%|█████████▏| 1143/1250 [01:13<00:07, 13.95it/s]\u001b[A\nPredict:  92%|█████████▏| 1145/1250 [01:13<00:07, 14.70it/s]\u001b[A\nPredict:  92%|█████████▏| 1147/1250 [01:13<00:06, 15.39it/s]\u001b[A\nPredict:  92%|█████████▏| 1149/1250 [01:14<00:06, 16.09it/s]\u001b[A\nPredict:  92%|█████████▏| 1151/1250 [01:14<00:05, 16.63it/s]\u001b[A\nPredict:  92%|█████████▏| 1154/1250 [01:14<00:05, 17.72it/s]\u001b[A\nPredict:  92%|█████████▏| 1156/1250 [01:14<00:05, 16.05it/s]\u001b[A\nPredict:  93%|█████████▎| 1158/1250 [01:14<00:05, 16.50it/s]\u001b[A\nPredict:  93%|█████████▎| 1160/1250 [01:14<00:05, 17.36it/s]\u001b[A\nPredict:  93%|█████████▎| 1162/1250 [01:14<00:05, 16.36it/s]\u001b[A\nPredict:  93%|█████████▎| 1164/1250 [01:14<00:05, 15.55it/s]\u001b[A\nPredict:  93%|█████████▎| 1166/1250 [01:15<00:05, 15.21it/s]\u001b[A\nPredict:  93%|█████████▎| 1168/1250 [01:15<00:05, 15.41it/s]\u001b[A\nPredict:  94%|█████████▎| 1171/1250 [01:15<00:04, 17.05it/s]\u001b[A\nPredict:  94%|█████████▍| 1173/1250 [01:15<00:04, 16.65it/s]\u001b[A\nPredict:  94%|█████████▍| 1175/1250 [01:15<00:05, 14.79it/s]\u001b[A\nPredict:  94%|█████████▍| 1177/1250 [01:15<00:04, 14.63it/s]\u001b[A\nPredict:  94%|█████████▍| 1179/1250 [01:15<00:04, 14.95it/s]\u001b[A\nPredict:  94%|█████████▍| 1181/1250 [01:16<00:04, 15.06it/s]\u001b[A\nPredict:  95%|█████████▍| 1184/1250 [01:16<00:03, 16.86it/s]\u001b[A\nPredict:  95%|█████████▍| 1186/1250 [01:16<00:03, 17.17it/s]\u001b[A\nPredict:  95%|█████████▌| 1188/1250 [01:16<00:03, 17.69it/s]\u001b[A\nPredict:  95%|█████████▌| 1190/1250 [01:16<00:03, 16.50it/s]\u001b[A\nPredict:  95%|█████████▌| 1192/1250 [01:16<00:03, 16.80it/s]\u001b[A\nPredict:  96%|█████████▌| 1194/1250 [01:16<00:03, 16.82it/s]\u001b[A\nPredict:  96%|█████████▌| 1196/1250 [01:16<00:03, 15.90it/s]\u001b[A\nPredict:  96%|█████████▌| 1198/1250 [01:17<00:03, 15.94it/s]\u001b[A\nPredict:  96%|█████████▌| 1201/1250 [01:17<00:02, 17.43it/s]\u001b[A\nPredict:  96%|█████████▌| 1203/1250 [01:17<00:02, 17.31it/s]\u001b[A\nPredict:  96%|█████████▋| 1206/1250 [01:17<00:02, 18.16it/s]\u001b[A\nPredict:  97%|█████████▋| 1208/1250 [01:17<00:02, 16.23it/s]\u001b[A\nPredict:  97%|█████████▋| 1211/1250 [01:17<00:02, 17.13it/s]\u001b[A\nPredict:  97%|█████████▋| 1213/1250 [01:17<00:02, 16.62it/s]\u001b[A\nPredict:  97%|█████████▋| 1215/1250 [01:18<00:02, 15.91it/s]\u001b[A\nPredict:  97%|█████████▋| 1217/1250 [01:18<00:02, 15.68it/s]\u001b[A\nPredict:  98%|█████████▊| 1219/1250 [01:18<00:01, 16.36it/s]\u001b[A\nPredict:  98%|█████████▊| 1221/1250 [01:18<00:01, 15.92it/s]\u001b[A\nPredict:  98%|█████████▊| 1224/1250 [01:18<00:01, 16.43it/s]\u001b[A\nPredict:  98%|█████████▊| 1226/1250 [01:18<00:01, 16.58it/s]\u001b[A\nPredict:  98%|█████████▊| 1228/1250 [01:18<00:01, 14.98it/s]\u001b[A\nPredict:  98%|█████████▊| 1230/1250 [01:18<00:01, 15.93it/s]\u001b[A\nPredict:  99%|█████████▊| 1232/1250 [01:19<00:01, 16.89it/s]\u001b[A\nPredict:  99%|█████████▊| 1234/1250 [01:19<00:00, 17.25it/s]\u001b[A\nPredict:  99%|█████████▉| 1236/1250 [01:19<00:00, 17.84it/s]\u001b[A\nPredict:  99%|█████████▉| 1238/1250 [01:19<00:00, 17.34it/s]\u001b[A\nPredict:  99%|█████████▉| 1240/1250 [01:19<00:00, 16.59it/s]\u001b[A\nPredict:  99%|█████████▉| 1243/1250 [01:19<00:00, 16.79it/s]\u001b[A\nPredict: 100%|█████████▉| 1245/1250 [01:19<00:00, 16.23it/s]\u001b[A\nPredict: 100%|█████████▉| 1247/1250 [01:19<00:00, 15.95it/s]\u001b[A\nPredict: 100%|██████████| 1250/1250 [01:20<00:00, 15.57it/s]\n"
    }
   ],
   "source": [
    "# This is the Prediction cell.\n",
    "\n",
    "# fill the epoch of the lowest val_loss to best_model\n",
    "best_model = 8\n",
    "model.load_state_dict(state_dict=torch.load(os.path.join(CWD,'model/model.pkl.{}'.format(best_model))))\n",
    "model.train(False)\n",
    "# double ckeck the best_model_score\n",
    "_run_epoch(1, 'valid')\n",
    "\n",
    "# start testing\n",
    "dataloader = DataLoader(dataset=testData,\n",
    "                            batch_size=16,\n",
    "                            shuffle=False,\n",
    "                            collate_fn=testData.collate_fn,\n",
    "                            num_workers=8)\n",
    "trange = tqdm(enumerate(dataloader), total=len(dataloader), desc='Predict')\n",
    "prediction = []\n",
    "for i, (x, y, sent_len) in trange:\n",
    "    o_labels = model(x.to(device))\n",
    "    o_labels = o_labels>0.5\n",
    "    for idx, o_label in enumerate(o_labels):\n",
    "        prediction.append(o_label[:sent_len[idx]].to('cpu'))\n",
    "prediction = torch.cat(prediction).detach().numpy().astype(int)"
   ]
  },
  {
   "cell_type": "code",
   "execution_count": 27,
   "metadata": {},
   "outputs": [],
   "source": [
    "### Helper function for creating a csv file following the submission format\n",
    "\n",
    "def SubmitGenerator(prediction, sampleFile, public=True, filename='prediction.csv'):\n",
    "    sample = pd.read_csv(sampleFile)\n",
    "    submit = {}\n",
    "    submit['order_id'] = list(sample.order_id.values)\n",
    "    redundant = len(sample) - prediction.shape[0]\n",
    "    if public:\n",
    "        submit['BACKGROUND'] = list(prediction[:,0]) + [0]*redundant\n",
    "        submit['OBJECTIVES'] = list(prediction[:,1]) + [0]*redundant\n",
    "        submit['METHODS'] = list(prediction[:,2]) + [0]*redundant\n",
    "        submit['RESULTS'] = list(prediction[:,3]) + [0]*redundant\n",
    "        submit['CONCLUSIONS'] = list(prediction[:,4]) + [0]*redundant\n",
    "        submit['OTHERS'] = list(prediction[:,5]) + [0]*redundant\n",
    "    else:\n",
    "        submit['BACKGROUND'] = [0]*redundant + list(prediction[:,0])\n",
    "        submit['OBJECTIVES'] = [0]*redundant + list(prediction[:,1])\n",
    "        submit['METHODS'] = [0]*redundant + list(prediction[:,2])\n",
    "        submit['RESULTS'] = [0]*redundant + list(prediction[:,3])\n",
    "        submit['CONCLUSIONS'] = [0]*redundant + list(prediction[:,4])\n",
    "        submit['OTHERS'] = [0]*redundant + list(prediction[:,5])\n",
    "    df = pd.DataFrame.from_dict(submit) \n",
    "    df.to_csv(filename,index=False)"
   ]
  },
  {
   "cell_type": "code",
   "execution_count": 29,
   "metadata": {},
   "outputs": [],
   "source": [
    "### Output csv for submission\n",
    "\n",
    "SubmitGenerator(prediction,\n",
    "                os.path.join(DATA_PATH,'task1_sample_submission.csv'), \n",
    "                True, \n",
    "                os.path.join(CWD,'submission_1113.csv'))"
   ]
  },
  {
   "cell_type": "code",
   "execution_count": null,
   "metadata": {},
   "outputs": [],
   "source": []
  }
 ]
}