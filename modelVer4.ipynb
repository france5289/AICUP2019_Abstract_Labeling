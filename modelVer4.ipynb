{
 "nbformat": 4,
 "nbformat_minor": 2,
 "metadata": {
  "language_info": {
   "name": "python",
   "codemirror_mode": {
    "name": "ipython",
    "version": 3
   },
   "version": "3.6.8"
  },
  "orig_nbformat": 2,
  "file_extension": ".py",
  "mimetype": "text/x-python",
  "name": "python",
  "npconvert_exporter": "python",
  "pygments_lexer": "ipython3",
  "version": 3
 },
 "cells": [
  {
   "cell_type": "code",
   "execution_count": 1,
   "metadata": {},
   "outputs": [],
   "source": [
    "import os\n",
    "import pickle\n",
    "import pandas as pd\n",
    "from tokenizer import NLTKTokenizer\n",
    "\n",
    "CWD = os.getcwd()\n",
    "DATA_PATH = os.path.join(CWD, 'data')\n"
   ]
  },
  {
   "cell_type": "code",
   "execution_count": 3,
   "metadata": {},
   "outputs": [],
   "source": [
    "def Remove_Redundant_Columns(dataset):\n",
    "    '''\n",
    "    Read dataset and remove Title, Categories, Created Date, Authors columns\n",
    "\n",
    "    Args:\n",
    "        dataset(DataFrame) : original dataset\n",
    "    '''\n",
    "    dataset.drop('Title',axis=1,inplace=True)\n",
    "    dataset.drop('Categories',axis=1,inplace=True)\n",
    "    dataset.drop('Created Date',axis=1, inplace=True)\n",
    "    dataset.drop('Authors',axis=1,inplace=True)\n"
   ]
  },
  {
   "cell_type": "markdown",
   "execution_count": null,
   "metadata": {},
   "outputs": [],
   "source": [
    "## Read in `task1_trainset.csv` and remove redundant columns"
   ]
  },
  {
   "cell_type": "code",
   "execution_count": 4,
   "metadata": {},
   "outputs": [],
   "source": [
    "dataset = pd.read_csv( os.path.join( DATA_PATH, 'task1_trainset.csv' ), dtype = str )"
   ]
  },
  {
   "cell_type": "code",
   "execution_count": 5,
   "metadata": {},
   "outputs": [
    {
     "data": {
      "text/html": "<div>\n<style scoped>\n    .dataframe tbody tr th:only-of-type {\n        vertical-align: middle;\n    }\n\n    .dataframe tbody tr th {\n        vertical-align: top;\n    }\n\n    .dataframe thead th {\n        text-align: right;\n    }\n</style>\n<table border=\"1\" class=\"dataframe\">\n  <thead>\n    <tr style=\"text-align: right;\">\n      <th></th>\n      <th>Id</th>\n      <th>Title</th>\n      <th>Abstract</th>\n      <th>Authors</th>\n      <th>Categories</th>\n      <th>Created Date</th>\n      <th>Task 1</th>\n    </tr>\n  </thead>\n  <tbody>\n    <tr>\n      <th>0</th>\n      <td>D00001</td>\n      <td>A Brain-Inspired Trust Management Model to Ass...</td>\n      <td>Rapid popularity of Internet of Things (IoT) a...</td>\n      <td>Mahmud/Kaiser/Rahman/Rahman/Shabut/Al-Mamun/Hu...</td>\n      <td>cs.CR/cs.AI/q-bio.NC</td>\n      <td>2018-01-11</td>\n      <td>BACKGROUND OBJECTIVES METHODS METHODS RESULTS ...</td>\n    </tr>\n    <tr>\n      <th>1</th>\n      <td>D00002</td>\n      <td>On Efficient Computation of Shortest Dubins Pa...</td>\n      <td>In this paper, we address the problem of compu...</td>\n      <td>Sadeghi/Smith</td>\n      <td>cs.SY/cs.RO/math.OC</td>\n      <td>2016-09-21</td>\n      <td>OBJECTIVES OTHERS METHODS/RESULTS RESULTS RESULTS</td>\n    </tr>\n    <tr>\n      <th>2</th>\n      <td>D00003</td>\n      <td>Data-driven Upsampling of Point Clouds</td>\n      <td>High quality upsampling of sparse 3D point clo...</td>\n      <td>Zhang/Jiang/Yang/Yamakawa/Shimada/Kara</td>\n      <td>cs.CV</td>\n      <td>2018-07-07</td>\n      <td>BACKGROUND OBJECTIVES METHODS METHODS METHODS ...</td>\n    </tr>\n    <tr>\n      <th>3</th>\n      <td>D00004</td>\n      <td>Accessibility or Usability of InteractSE? A He...</td>\n      <td>Internet is the main source of information now...</td>\n      <td>Aqle/Khowaja/Al-Thani</td>\n      <td>cs.HC</td>\n      <td>2018-08-29</td>\n      <td>BACKGROUND BACKGROUND BACKGROUND OBJECTIVES OB...</td>\n    </tr>\n    <tr>\n      <th>4</th>\n      <td>D00005</td>\n      <td>Spatio-Temporal Facial Expression Recognition ...</td>\n      <td>Automated Facial Expression Recognition (FER) ...</td>\n      <td>Hasani/Mahoor</td>\n      <td>cs.CV</td>\n      <td>2017-03-20</td>\n      <td>BACKGROUND BACKGROUND BACKGROUND BACKGROUND ME...</td>\n    </tr>\n  </tbody>\n</table>\n</div>",
      "text/plain": "       Id                                              Title  \\\n0  D00001  A Brain-Inspired Trust Management Model to Ass...   \n1  D00002  On Efficient Computation of Shortest Dubins Pa...   \n2  D00003             Data-driven Upsampling of Point Clouds   \n3  D00004  Accessibility or Usability of InteractSE? A He...   \n4  D00005  Spatio-Temporal Facial Expression Recognition ...   \n\n                                            Abstract  \\\n0  Rapid popularity of Internet of Things (IoT) a...   \n1  In this paper, we address the problem of compu...   \n2  High quality upsampling of sparse 3D point clo...   \n3  Internet is the main source of information now...   \n4  Automated Facial Expression Recognition (FER) ...   \n\n                                             Authors            Categories  \\\n0  Mahmud/Kaiser/Rahman/Rahman/Shabut/Al-Mamun/Hu...  cs.CR/cs.AI/q-bio.NC   \n1                                      Sadeghi/Smith   cs.SY/cs.RO/math.OC   \n2             Zhang/Jiang/Yang/Yamakawa/Shimada/Kara                 cs.CV   \n3                              Aqle/Khowaja/Al-Thani                 cs.HC   \n4                                      Hasani/Mahoor                 cs.CV   \n\n  Created Date                                             Task 1  \n0   2018-01-11  BACKGROUND OBJECTIVES METHODS METHODS RESULTS ...  \n1   2016-09-21  OBJECTIVES OTHERS METHODS/RESULTS RESULTS RESULTS  \n2   2018-07-07  BACKGROUND OBJECTIVES METHODS METHODS METHODS ...  \n3   2018-08-29  BACKGROUND BACKGROUND BACKGROUND OBJECTIVES OB...  \n4   2017-03-20  BACKGROUND BACKGROUND BACKGROUND BACKGROUND ME...  "
     },
     "execution_count": 5,
     "metadata": {},
     "output_type": "execute_result"
    }
   ],
   "source": [
    "dataset.head()"
   ]
  },
  {
   "cell_type": "code",
   "execution_count": 6,
   "metadata": {},
   "outputs": [],
   "source": [
    "Remove_Redundant_Columns(dataset)"
   ]
  },
  {
   "cell_type": "code",
   "execution_count": 7,
   "metadata": {},
   "outputs": [
    {
     "data": {
      "text/html": "<div>\n<style scoped>\n    .dataframe tbody tr th:only-of-type {\n        vertical-align: middle;\n    }\n\n    .dataframe tbody tr th {\n        vertical-align: top;\n    }\n\n    .dataframe thead th {\n        text-align: right;\n    }\n</style>\n<table border=\"1\" class=\"dataframe\">\n  <thead>\n    <tr style=\"text-align: right;\">\n      <th></th>\n      <th>Id</th>\n      <th>Abstract</th>\n      <th>Task 1</th>\n    </tr>\n  </thead>\n  <tbody>\n    <tr>\n      <th>0</th>\n      <td>D00001</td>\n      <td>Rapid popularity of Internet of Things (IoT) a...</td>\n      <td>BACKGROUND OBJECTIVES METHODS METHODS RESULTS ...</td>\n    </tr>\n    <tr>\n      <th>1</th>\n      <td>D00002</td>\n      <td>In this paper, we address the problem of compu...</td>\n      <td>OBJECTIVES OTHERS METHODS/RESULTS RESULTS RESULTS</td>\n    </tr>\n    <tr>\n      <th>2</th>\n      <td>D00003</td>\n      <td>High quality upsampling of sparse 3D point clo...</td>\n      <td>BACKGROUND OBJECTIVES METHODS METHODS METHODS ...</td>\n    </tr>\n    <tr>\n      <th>3</th>\n      <td>D00004</td>\n      <td>Internet is the main source of information now...</td>\n      <td>BACKGROUND BACKGROUND BACKGROUND OBJECTIVES OB...</td>\n    </tr>\n    <tr>\n      <th>4</th>\n      <td>D00005</td>\n      <td>Automated Facial Expression Recognition (FER) ...</td>\n      <td>BACKGROUND BACKGROUND BACKGROUND BACKGROUND ME...</td>\n    </tr>\n  </tbody>\n</table>\n</div>",
      "text/plain": "       Id                                           Abstract  \\\n0  D00001  Rapid popularity of Internet of Things (IoT) a...   \n1  D00002  In this paper, we address the problem of compu...   \n2  D00003  High quality upsampling of sparse 3D point clo...   \n3  D00004  Internet is the main source of information now...   \n4  D00005  Automated Facial Expression Recognition (FER) ...   \n\n                                              Task 1  \n0  BACKGROUND OBJECTIVES METHODS METHODS RESULTS ...  \n1  OBJECTIVES OTHERS METHODS/RESULTS RESULTS RESULTS  \n2  BACKGROUND OBJECTIVES METHODS METHODS METHODS ...  \n3  BACKGROUND BACKGROUND BACKGROUND OBJECTIVES OB...  \n4  BACKGROUND BACKGROUND BACKGROUND BACKGROUND ME...  "
     },
     "execution_count": 7,
     "metadata": {},
     "output_type": "execute_result"
    }
   ],
   "source": [
    "dataset.head()"
   ]
  },
  {
   "cell_type": "markdown",
   "execution_count": null,
   "metadata": {},
   "outputs": [],
   "source": [
    "## Split sentences by `$$$`"
   ]
  },
  {
   "cell_type": "code",
   "execution_count": 8,
   "metadata": {},
   "outputs": [],
   "source": [
    "def SplitSent(doc):\n",
    "    return doc.split('$$$')"
   ]
  },
  {
   "cell_type": "code",
   "execution_count": 9,
   "metadata": {},
   "outputs": [],
   "source": [
    "dataset['Abstract'] = dataset['Abstract'].apply(func=SplitSent)"
   ]
  },
  {
   "cell_type": "code",
   "execution_count": 10,
   "metadata": {},
   "outputs": [
    {
     "data": {
      "text/plain": "['Rapid popularity of Internet of Things (IoT) and cloud computing permits neuroscientists to collect multilevel and multichannel brain data to better understand brain functions, diagnose diseases, and devise treatments.',\n 'To ensure secure and reliable data communication between end-to-end (E2E) devices supported by current IoT and cloud infrastructure, trust management is needed at the IoT and user ends.',\n 'This paper introduces a Neuro-Fuzzy based Brain-inspired trust management model (TMM) to secure IoT devices and relay nodes, and to ensure data reliability.',\n 'The proposed TMM utilizes node behavioral trust and data trust estimated using Adaptive Neuro-Fuzzy Inference System and weighted-additive methods respectively to assess the nodes trustworthiness.',\n 'In contrast to the existing fuzzy based TMMs, the NS2 simulation results confirm the robustness and accuracy of the proposed TMM in identifying malicious nodes in the communication network.',\n 'With the growing usage of cloud based IoT frameworks in Neuroscience research, integrating the proposed TMM into the existing infrastructure will assure secure and reliable data communication among the E2E devices.']"
     },
     "execution_count": 10,
     "metadata": {},
     "output_type": "execute_result"
    }
   ],
   "source": [
    "dataset['Abstract'][0]"
   ]
  },
  {
   "cell_type": "code",
   "execution_count": 11,
   "metadata": {},
   "outputs": [],
   "source": [
    "tokenizer = NLTKTokenizer()"
   ]
  },
  {
   "cell_type": "code",
   "execution_count": 13,
   "metadata": {},
   "outputs": [],
   "source": [
    "for item in dataset['Abstract']:\n",
    "    tokenizer.build_dict(item)"
   ]
  },
  {
   "cell_type": "markdown",
   "execution_count": null,
   "metadata": {},
   "outputs": [],
   "source": [
    "## Test Vocabulary"
   ]
  },
  {
   "cell_type": "code",
   "execution_count": 16,
   "metadata": {},
   "outputs": [
    {
     "name": "stdout",
     "output_type": "stream",
     "text": "[[39124, 41958, 42450, 42391, 42450, 42311, 42440, 42313, 42442, 42476, 42249, 42244, 41286, 17694, 42446, 42315, 39770, 42476, 12868, 42447, 42529, 42446, 42539, 42432, 42447, 42186, 42459, 42335, 41717, 42459, 42476, 42341, 42251, 42455, 3], [42309, 41831, 42398, 42476, 42382, 42529, 42298, 42544, 42397, 42440, 30509, 42442, 42454, 40321, 42494, 42487, 42313, 42476, 42249, 42364, 42459, 40618, 42051, 42444, 42466, 42507, 42508, 42313, 42476, 42438, 39992, 42455, 3], [42487, 42493, 41920, 42457, 58, 42502, 60, 40618, 42051, 42511, 42440, 12490, 42442, 42446, 42398, 42313, 42454, 42476, 42453, 42454, 42459, 42476, 42446, 41831, 42529, 42552, 42455, 3], [42526, 42522, 12490, 42307, 42482, 41791, 40618, 42476, 42529, 40618, 42160, 42470, 41905, 58, 37732, 41938, 42476, 76, 42448, 42402, 42446, 42507, 42508, 42454, 36617, 42455, 3], [42456, 42393, 42446, 42508, 42518, 41759, 42502, 85, 42459, 42508, 30307, 42448, 42527, 42341, 42508, 42079, 42476, 42458, 42450, 42508, 42522, 12490, 42491, 42460, 42310, 42454, 42491, 42508, 42298, 42500, 42455, 3], [41964, 42508, 42396, 42295, 42450, 42249, 42502, 42313, 42113, 42491, 29280, 42452, 42459, 42193, 42508, 42522, 12490, 42468, 42508, 42518, 42364, 42495, 39812, 42398, 42476, 42382, 42529, 42298, 42465, 42508, 30509, 42454, 42455, 3]]\n"
    }
   ],
   "source": [
    "a = tokenizer.encode(dataset['Abstract'][0])\n",
    "print(a)"
   ]
  },
  {
   "cell_type": "code",
   "execution_count": 17,
   "metadata": {},
   "outputs": [
    {
     "data": {
      "text/plain": "['present Data-driven of and of Things ( IoT ) and important and this of to systems We and Vehicles increase that to compare the increase We , Buffalo Recent , and contribution in . ',\n 'Internet The Data and of that order between Big ( as ) channels machine we be IoT and important are , demanded , is messages Because the IoT and plays Blondie . ',\n 'be paper routing a Neuro-Fuzzy based Brain-inspired demanded , channel ( the ) to Data IoT channels and relay channels , and to The that reliability . ',\n 'The also the this remain of demanded and that demanded with or present Neuro-Fuzzy We We and weighted-additive bandwidth effects to Because the channels discussions . ',\n 'In Transportation to the obtain TT based TMMs , the resource bandwidth results contribution the rectangular and scheme of the also the in designed of channels in the order LDPC . ',\n 'deep the term mechanics of important based IoT Dense in and two-way , metadata the also the other the obtain are will detection Data and of that order transmitted the as channels . ']"
     },
     "execution_count": 17,
     "metadata": {},
     "output_type": "execute_result"
    }
   ],
   "source": [
    "tokenizer.decode(a)"
   ]
  },
  {
   "cell_type": "code",
   "execution_count": null,
   "metadata": {},
   "outputs": [],
   "source": []
  }
 ]
}