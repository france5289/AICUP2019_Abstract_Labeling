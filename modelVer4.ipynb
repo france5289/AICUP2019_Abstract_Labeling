{
 "cells": [
  {
   "cell_type": "code",
   "execution_count": 2,
   "metadata": {},
   "outputs": [],
   "source": [
    "import os\n",
    "import pickle\n",
    "import pandas as pd\n",
    "from tokenizer import NLTKTokenizer\n",
    "\n",
    "CWD = os.getcwd()\n",
    "TRAIN_DATA_PATH = os.path.join(CWD, 'data', 'trainset.csv')\n",
    "VALID_DATA_PATH = os.path.join(CWD, 'data', 'validset.csv')\n",
    "TEST_DATA_PATH = os.path.join(CWD, 'data', 'testset.csv')\n",
    "DICT_PATH = os.path.join(CWD, 'data', 'dictionary.pkl')\n",
    "WORKERS = os.cpu_count() // 2\n",
    "Tokenizer = NLTKTokenizer()"
   ]
  },
  {
   "cell_type": "code",
   "execution_count": 3,
   "metadata": {},
   "outputs": [],
   "source": [
    "import numpy as np"
   ]
  },
  {
   "cell_type": "code",
   "execution_count": 4,
   "metadata": {},
   "outputs": [],
   "source": [
    "import torch\n",
    "from torch.utils.data import Dataset, DataLoader\n",
    "from torch.nn.utils.rnn import pad_sequence"
   ]
  },
  {
   "cell_type": "code",
   "execution_count": 5,
   "metadata": {},
   "outputs": [],
   "source": [
    "def GenDict(train, valid):\n",
    "    global Tokenizer\n",
    "    if os.path.exists(DICT_PATH):\n",
    "        Tokenizer = NLTKTokenizer.load_from_file(DICT_PATH)\n",
    "    else:\n",
    "        for item in tqdm(train['Abstract'], desc='Train set'):\n",
    "            Tokenizer.build_dict(item)\n",
    "\n",
    "        for item in tqdm(valid['Abstract'], desc='Valid set'):\n",
    "            Tokenizer.build_dict(item)\n",
    "        Tokenizer.save_to_file(DICT_PATH)"
   ]
  },
  {
   "cell_type": "code",
   "execution_count": 6,
   "metadata": {},
   "outputs": [
    {
     "name": "stdout",
     "output_type": "stream",
     "text": "Generate relative dictionary\n"
    }
   ],
   "source": [
    "train = pd.read_csv(TRAIN_DATA_PATH)\n",
    "valid = pd.read_csv(VALID_DATA_PATH)\n",
    "test = pd.read_csv(TEST_DATA_PATH)\n",
    "print('Generate relative dictionary')\n",
    "GenDict(train, valid)"
   ]
  },
  {
   "cell_type": "code",
   "execution_count": 8,
   "metadata": {},
   "outputs": [
    {
     "data": {
      "text/html": "<div>\n<style scoped>\n    .dataframe tbody tr th:only-of-type {\n        vertical-align: middle;\n    }\n\n    .dataframe tbody tr th {\n        vertical-align: top;\n    }\n\n    .dataframe thead th {\n        text-align: right;\n    }\n</style>\n<table border=\"1\" class=\"dataframe\">\n  <thead>\n    <tr style=\"text-align: right;\">\n      <th></th>\n      <th>Abstract</th>\n      <th>Task 1</th>\n    </tr>\n  </thead>\n  <tbody>\n    <tr>\n      <th>0</th>\n      <td>However, efficiently understanding underlying ...</td>\n      <td>OBJECTIVES</td>\n    </tr>\n    <tr>\n      <th>1</th>\n      <td>It is assumed that each partition employs the ...</td>\n      <td>BACKGROUND</td>\n    </tr>\n    <tr>\n      <th>2</th>\n      <td>The conditions under which this decoupling pro...</td>\n      <td>OTHERS</td>\n    </tr>\n    <tr>\n      <th>3</th>\n      <td>Given initial and final configurations of the ...</td>\n      <td>OTHERS</td>\n    </tr>\n    <tr>\n      <th>4</th>\n      <td>We establish that classical sketch has a simil...</td>\n      <td>RESULTS</td>\n    </tr>\n    <tr>\n      <th>...</th>\n      <td>...</td>\n      <td>...</td>\n    </tr>\n    <tr>\n      <th>42175</th>\n      <td>Popular gates like AND, OR, XOR, processing tw...</td>\n      <td>BACKGROUND</td>\n    </tr>\n    <tr>\n      <th>42176</th>\n      <td>We also discuss how applying additional modifi...</td>\n      <td>METHODS/RESULTS</td>\n    </tr>\n    <tr>\n      <th>42177</th>\n      <td>Our analysis reveals that specific linguistic ...</td>\n      <td>CONCLUSIONS</td>\n    </tr>\n    <tr>\n      <th>42178</th>\n      <td>In contrast, in AI and robotics, a robot's bod...</td>\n      <td>BACKGROUND</td>\n    </tr>\n    <tr>\n      <th>42179</th>\n      <td>Bandit structured prediction describes a stoch...</td>\n      <td>BACKGROUND</td>\n    </tr>\n  </tbody>\n</table>\n<p>42180 rows × 2 columns</p>\n</div>",
      "text/plain": "                                                Abstract           Task 1\n0      However, efficiently understanding underlying ...       OBJECTIVES\n1      It is assumed that each partition employs the ...       BACKGROUND\n2      The conditions under which this decoupling pro...           OTHERS\n3      Given initial and final configurations of the ...           OTHERS\n4      We establish that classical sketch has a simil...          RESULTS\n...                                                  ...              ...\n42175  Popular gates like AND, OR, XOR, processing tw...       BACKGROUND\n42176  We also discuss how applying additional modifi...  METHODS/RESULTS\n42177  Our analysis reveals that specific linguistic ...      CONCLUSIONS\n42178  In contrast, in AI and robotics, a robot's bod...       BACKGROUND\n42179  Bandit structured prediction describes a stoch...       BACKGROUND\n\n[42180 rows x 2 columns]"
     },
     "execution_count": 8,
     "metadata": {},
     "output_type": "execute_result"
    }
   ],
   "source": [
    "train"
   ]
  },
  {
   "cell_type": "code",
   "execution_count": 9,
   "metadata": {},
   "outputs": [
    {
     "data": {
      "text/plain": "[[5, 3],\n [6, 3],\n [7, 3],\n [8, 3],\n [9, 3],\n [8, 3],\n [10, 3],\n [11, 3],\n [3],\n [8, 3],\n [12, 3],\n [12, 3],\n [13, 3],\n [14, 3],\n [13, 3],\n [8, 3],\n [15, 3],\n [16, 3],\n [17, 3],\n [18, 3],\n [3],\n [19, 3],\n [15, 3],\n [20, 3],\n [8, 3],\n [10, 3],\n [21, 3],\n [16, 3],\n [22, 3],\n [15, 3],\n [20, 3],\n [13, 3],\n [15, 3],\n [23, 3],\n [3],\n [19, 3],\n [15, 3],\n [20, 3],\n [8, 3],\n [10, 3],\n [17, 3],\n [18, 3],\n [13, 3],\n [15, 3],\n [23, 3],\n [3],\n [16, 3],\n [10, 3],\n [8, 3],\n [15, 3],\n [20, 3],\n [21, 3],\n [3],\n [22, 3],\n [15, 3],\n [20, 3],\n [3],\n [24, 3],\n [22, 3],\n [16, 3],\n [16, 3],\n [8, 3],\n [10, 3],\n [15, 3],\n [21, 3],\n [3],\n [13, 3],\n [21, 3],\n [3],\n [25, 3],\n [22, 3],\n [10, 3],\n [20, 3],\n [3],\n [20, 3],\n [19, 3],\n [8, 3],\n [3],\n [16, 3],\n [6, 3],\n [3],\n [17, 3],\n [22, 3],\n [10, 3],\n [23, 3],\n [8, 3],\n [3],\n [21, 3],\n [13, 3],\n [26, 3],\n [8, 3],\n [3],\n [6, 3],\n [12, 3],\n [3],\n [16, 3],\n [25, 3],\n [8, 3],\n [3],\n [23, 3],\n [10, 3],\n [22, 3],\n [24, 3],\n [25, 3],\n [27, 3]]"
     },
     "execution_count": 9,
     "metadata": {},
     "output_type": "execute_result"
    }
   ],
   "source": [
    "Tokenizer.encode(train['Abstract'][0])"
   ]
  },
  {
   "cell_type": "code",
   "execution_count": 10,
   "metadata": {},
   "outputs": [
    {
     "data": {
      "text/plain": "['However',\n ',',\n 'efficiently',\n 'understanding',\n 'underlying',\n 'trends',\n 'and',\n 'patterns',\n 'is',\n 'hard',\n 'due',\n 'to',\n 'large',\n 'size',\n 'of',\n 'the',\n 'graph',\n '.']"
     },
     "execution_count": 10,
     "metadata": {},
     "output_type": "execute_result"
    }
   ],
   "source": [
    "Tokenizer.tokenize(train['Abstract'][0])"
   ]
  },
  {
   "cell_type": "code",
   "execution_count": 7,
   "metadata": {},
   "outputs": [
    {
     "data": {
      "text/plain": "{'[PAD]': 0,\n '[CLS]': 1,\n '[SEP]': 2,\n '[EOS]': 3,\n '[UNK]': 4,\n 'H': 5,\n 'o': 6,\n 'w': 7,\n 'e': 8,\n 'v': 9,\n 'r': 10,\n ',': 11,\n 'f': 12,\n 'i': 13,\n 'c': 14,\n 'n': 15,\n 't': 16,\n 'l': 17,\n 'y': 18,\n 'u': 19,\n 'd': 20,\n 's': 21,\n 'a': 22,\n 'g': 23,\n 'p': 24,\n 'h': 25,\n 'z': 26,\n '.': 27,\n 'I': 28,\n 'm': 29,\n 'L': 30,\n 'R': 31,\n 'U': 32,\n 'T': 33,\n 'k': 34,\n 'x': 35,\n 'G': 36,\n 'D': 37,\n 'b': 38,\n 'j': 39,\n 'W': 40,\n 'M': 41,\n 'S': 42,\n ':': 43,\n 'O': 44,\n '-': 45,\n 'q': 46,\n '1': 47,\n '2': 48,\n '0': 49,\n 'F': 50,\n 'A': 51,\n '5': 52,\n '+': 53,\n '(': 54,\n ')': 55,\n 'E': 56,\n 'B': 57,\n 'K': 58,\n '3': 59,\n 'P': 60,\n 'V': 61,\n '6': 62,\n '?': 63,\n 'Q': 64,\n 'N': 65,\n 'C': 66,\n '4': 67,\n \"'\": 68,\n '/': 69,\n '%': 70,\n ';': 71,\n '8': 72,\n '7': 73,\n '9': 74,\n '*': 75,\n '^': 76,\n '``': 77,\n 'J': 78,\n '&': 79,\n 'X': 80,\n '<': 81,\n 'Y': 82,\n '=': 83,\n '@': 84,\n '`': 85,\n '_': 86,\n '#': 87,\n 'Z': 88,\n '!': 89,\n '>': 90,\n '[': 91,\n '~': 92,\n '|': 93}"
     },
     "execution_count": 7,
     "metadata": {},
     "output_type": "execute_result"
    }
   ],
   "source": [
    "Tokenizer.get_token_to_id()"
   ]
  },
  {
   "cell_type": "code",
   "execution_count": null,
   "metadata": {},
   "outputs": [],
   "source": []
  }
 ],
 "metadata": {
  "file_extension": ".py",
  "kernelspec": {
   "display_name": "venv_Abrstract_Labeling",
   "language": "python",
   "name": "venv_abrstract_labeling"
  },
  "language_info": {
   "codemirror_mode": {
    "name": "ipython",
    "version": 3
   },
   "file_extension": ".py",
   "mimetype": "text/x-python",
   "name": "python",
   "nbconvert_exporter": "python",
   "pygments_lexer": "ipython3",
   "version": "3.6.9"
  },
  "mimetype": "text/x-python",
  "name": "python",
  "npconvert_exporter": "python",
  "pygments_lexer": "ipython3",
  "version": 3
 },
 "nbformat": 4,
 "nbformat_minor": 4
}